{
 "cells": [
  {
   "cell_type": "code",
   "execution_count": null,
   "id": "3768d276",
   "metadata": {},
   "outputs": [],
   "source": [
    "import pandas as pd\n",
    "import plotly.graph_objects as go\n",
    "import plotly.express as px\n",
    "import numpy as np"
   ]
  },
  {
   "cell_type": "code",
   "execution_count": null,
   "id": "7b941432",
   "metadata": {},
   "outputs": [],
   "source": [
    "#raw databese from \"HOPR Community Survey (Responses)\""
   ]
  },
  {
   "cell_type": "code",
   "execution_count": null,
   "id": "9e4d3144",
   "metadata": {},
   "outputs": [],
   "source": [
    "df = pd.read_csv('hopr_com_surv.csv')"
   ]
  },
  {
   "cell_type": "code",
   "execution_count": null,
   "id": "cfd51057",
   "metadata": {},
   "outputs": [],
   "source": [
    "#merging the 3 NFT address variable to 1"
   ]
  },
  {
   "cell_type": "code",
   "execution_count": null,
   "id": "14a572a7",
   "metadata": {},
   "outputs": [],
   "source": [
    "df['What is your xDAI address for receiving an NFT?'] = df['What is your xDAI address for receiving an NFT?'].str.lower()\n",
    "df['What is your xDAI address for receiving an NFT?.1'] = df['What is your xDAI address for receiving an NFT?.1'].str.lower()\n",
    "df['What is your xDAI address for receiving an NFT?.2'] = df['What is your xDAI address for receiving an NFT?.2'].str.lower()"
   ]
  },
  {
   "cell_type": "code",
   "execution_count": null,
   "id": "63ba6c36",
   "metadata": {},
   "outputs": [],
   "source": [
    "df['address'] = df['What is your xDAI address for receiving an NFT?'].fillna(df['What is your xDAI address for receiving an NFT?.1'])"
   ]
  },
  {
   "cell_type": "code",
   "execution_count": null,
   "id": "8359e965",
   "metadata": {},
   "outputs": [],
   "source": [
    "df['address'] = df['address'].fillna(df['What is your xDAI address for receiving an NFT?.2'])"
   ]
  },
  {
   "cell_type": "code",
   "execution_count": null,
   "id": "eba9e8ad",
   "metadata": {},
   "outputs": [],
   "source": [
    "#removing the duplicates from the dataframe based on the addresses"
   ]
  },
  {
   "cell_type": "code",
   "execution_count": null,
   "id": "cafb0456",
   "metadata": {},
   "outputs": [],
   "source": [
    "df = df.drop_duplicates(subset=['address'])"
   ]
  },
  {
   "cell_type": "code",
   "execution_count": null,
   "id": "4dc9b719",
   "metadata": {},
   "outputs": [],
   "source": [
    "#dropping the \"technical\" and open questions"
   ]
  },
  {
   "cell_type": "code",
   "execution_count": null,
   "id": "b71a5fa8",
   "metadata": {},
   "outputs": [],
   "source": [
    "df = df.drop(columns=['For quality control, please select 4 as the answer to this question', 'For quality control, please select 3 as the answer to this question', 'Would you like to stop?', 'Would you like to stop?.1', 'Would you like to say anything to the team?', 'How could we improve the setup process?.1'])"
   ]
  },
  {
   "cell_type": "code",
   "execution_count": null,
   "id": "745412f7",
   "metadata": {},
   "outputs": [],
   "source": [
    "#recoding the community membership, to creat a \"linear\" order"
   ]
  },
  {
   "cell_type": "code",
   "execution_count": null,
   "id": "4601d224",
   "metadata": {},
   "outputs": [],
   "source": [
    "df['How long have you been a HOPR community member?'] = df['How long have you been a HOPR community member?'].replace({\n",
    "    '1 - 3 months':'d) 1 - 3 months',\n",
    "'3 - 9 months':'c) 3 - 9 months', \n",
    "'More than a year':'b) More than a year',\n",
    "\"I don't consider myself a HOPR community member\":\"f) I don't consider myself a HOPR community member\",\n",
    "'Since launch (Dec 2020 - February 2021)':'a) Since launch (Dec 2020 - February 2021)',\n",
    "'Less than 1 month':'e) Less than 1 month'})"
   ]
  },
  {
   "cell_type": "code",
   "execution_count": null,
   "id": "8d5655d1",
   "metadata": {},
   "outputs": [],
   "source": [
    "#creating an alternative variable for community membership (merging the less than 1 month into 1-3 months)"
   ]
  },
  {
   "cell_type": "code",
   "execution_count": null,
   "id": "1430dd48",
   "metadata": {},
   "outputs": [],
   "source": [
    "df['Community_member'] = df['How long have you been a HOPR community member?'].replace({'e) Less than 1 month':'d) 1 - 3 months'})"
   ]
  },
  {
   "cell_type": "code",
   "execution_count": null,
   "id": "7e48cacf",
   "metadata": {},
   "outputs": [],
   "source": [
    "#function for crosstabulation"
   ]
  },
  {
   "cell_type": "code",
   "execution_count": null,
   "id": "1847b30f",
   "metadata": {},
   "outputs": [],
   "source": [
    "def crostab(df, col1, col2):\n",
    "    \n",
    "    # col1 is the \"dependent variable\" - any column of the questionair can be used, that does not include open answers\n",
    "    # col2 is the \"explanatory variable\" - any column of the questionair can be used, that does not include open answers\n",
    "    df_cross = pd.crosstab(df[col1], df[col2], normalize=\"index\")\n",
    "    data = []\n",
    "    \n",
    "    # \"normalize\" creates 100% stacked bar, which gives percentage instead of absolute numbers\n",
    "    for x in df_cross.columns:\n",
    "        data.append(go.Bar(name=str(x), \n",
    "                      x=df_cross.index, \n",
    "                      y=df_cross[x]))\n",
    "    \n",
    "    title = col1 + \" vs. <br>\"  + col2 + ' (sample size:' + str(len(df[col1])) + ')'\n",
    "    \n",
    "    figure = go.Figure(data)\n",
    "    figure.update_layout(barmode = 'stack', title_text=title)\n",
    "    \n",
    "    figure.show()\n",
    "    \n",
    "    return df_cross"
   ]
  },
  {
   "cell_type": "code",
   "execution_count": null,
   "id": "6dac0779",
   "metadata": {
    "scrolled": false
   },
   "outputs": [],
   "source": [
    "#the function can be used independently, with two variables e.g.:\n",
    "crostab(df, 'How long have you been a HOPR community member?', 'Do you read the HOPR Basics series? (https://medium.com/hoprnet/basics/home)')"
   ]
  },
  {
   "cell_type": "code",
   "execution_count": null,
   "id": "f87fa99c",
   "metadata": {},
   "outputs": [],
   "source": [
    "#with the help of \"summary\" a whole set of questions can be analysed"
   ]
  },
  {
   "cell_type": "code",
   "execution_count": null,
   "id": "f33c37e2",
   "metadata": {},
   "outputs": [],
   "source": [
    "# set the list of dependent (dep) and explanatory (exp) variables\n",
    "dep = [\"How long have you been a HOPR community member?\", \"I consider myself a technical person\", \"I understand what cover traffic is\"]"
   ]
  },
  {
   "cell_type": "code",
   "execution_count": null,
   "id": "c6bfe1ed",
   "metadata": {},
   "outputs": [],
   "source": [
    "exp = [\"Have you seen any of the HOPR Community Update videos?\",\"I care more about earning money from node running than providing data privacy\",\"I consider myself a technical person\",\"I know a lot about crypto\",'I know what web3 means','I understand how HOPR works',\"I understand what HOPR is trying to achieve\",\"I understand what metadata is\",\"I know what a mixnet is\",'I understand what \"layer 0 protocol\" means','I understand what MEV is',\"I understand how HOPR provides privacy\", \"I understand how HOPR incentivizes node runners\",\"I understand what cover traffic is\",\"I understand HOPR's proof-of relay mechanism\",\"I'm interested in HOPR governance / the HOPR DAO\",\"Do you read the HOPR Basics series? (https://medium.com/hoprnet/basics/home)\",\"Have you run a HOPR node before?\",\"Did you participate in either of the HOPR Governance experiments? (Either on the forum or by voting)\",\"Do you participate in the HOPR staking program?\"]"
   ]
  },
  {
   "cell_type": "code",
   "execution_count": null,
   "id": "78de08e9",
   "metadata": {},
   "outputs": [],
   "source": [
    "#\"summary\" gives you the list of crosstabulations, included in the included lists\n",
    "def summary (dependent, explanatory):\n",
    "    analytics=[]\n",
    "    for k in range(len(dependent)):\n",
    "        for l in range(len(explanatory)):\n",
    "            chart = crostab(df, dependent[k], explanatory[l])\n",
    "            analytics.append(chart)"
   ]
  },
  {
   "cell_type": "code",
   "execution_count": null,
   "id": "dc7610c4",
   "metadata": {},
   "outputs": [],
   "source": [
    "#\"summary\" gives you the list of crosstabulations, included in the included lists\n",
    "def summary (df, dependent, explanatory):\n",
    "    analytics=[]\n",
    "    for k in range(len(dependent)):\n",
    "        for l in range(len(explanatory)):\n",
    "            chart = crostab(df, dependent[k], explanatory[l])\n",
    "            analytics.append(chart)"
   ]
  },
  {
   "cell_type": "code",
   "execution_count": null,
   "id": "8edd862d",
   "metadata": {
    "scrolled": false
   },
   "outputs": [],
   "source": [
    "summary(df, dep, exp)"
   ]
  },
  {
   "cell_type": "code",
   "execution_count": null,
   "id": "1ff497cf",
   "metadata": {},
   "outputs": [],
   "source": [
    "# for numeric variables it's easier to use/undersand correlation"
   ]
  },
  {
   "cell_type": "code",
   "execution_count": null,
   "id": "55b38a47",
   "metadata": {},
   "outputs": [],
   "source": [
    "def heatmap (df_only_numeric):\n",
    "    #df_only_numeric requires a dataframe should include only a dataframe with numeric variables (including likert scales)\n",
    "    df_corr = df_only_numeric.corr()\n",
    "    heat = go.Heatmap(\n",
    "        z = df_corr,\n",
    "        x = df_corr.columns.values,\n",
    "        y = df_corr.columns.values,\n",
    "        zmin = - 1, # Sets the lower bound of the color domain\n",
    "        zmax = 1,\n",
    "        colorscale = 'RdBu'\n",
    "    )\n",
    "\n",
    "    title = 'Correlation Matrix'\n",
    "\n",
    "    layout = go.Layout(\n",
    "        title_text=title, \n",
    "        title_x=0.5, \n",
    "        xaxis_showgrid=False,\n",
    "        yaxis_showgrid=False,\n",
    "        yaxis_autorange='reversed'\n",
    "    )\n",
    "\n",
    "    fig=go.Figure(data=[heat], layout=layout)\n",
    "    fig.show()"
   ]
  },
  {
   "cell_type": "code",
   "execution_count": null,
   "id": "bf5ca706",
   "metadata": {},
   "outputs": [],
   "source": [
    "#These quesions relation to each other I would rather check with correlation \n",
    "df_numeric_list = df[[\"Did you participate in either of the HOPR Governance experiments? (Either on the forum or by voting)\",\"I care more about earning money from node running than providing data privacy\",\"I consider myself a technical person\",\"I know a lot about crypto\",'I know what web3 means','I understand how HOPR works',\"I understand what HOPR is trying to achieve\",\"I understand what metadata is\",\"I know what a mixnet is\",'I understand what \"layer 0 protocol\" means','I understand what MEV is',\"I understand how HOPR provides privacy\", \"I understand how HOPR incentivizes node runners\",\"I understand what cover traffic is\",\"I understand HOPR's proof-of relay mechanism\",\"I'm interested in HOPR governance / the HOPR DAO\"]]"
   ]
  },
  {
   "cell_type": "code",
   "execution_count": null,
   "id": "6cabc2fc",
   "metadata": {
    "scrolled": false
   },
   "outputs": [],
   "source": [
    "heatmap(df_numeric_list)"
   ]
  },
  {
   "cell_type": "code",
   "execution_count": null,
   "id": "535f65d8",
   "metadata": {},
   "outputs": [],
   "source": [
    "# voting on Dai, HOPR and participation (df_d, df_h, df_p)"
   ]
  },
  {
   "cell_type": "code",
   "execution_count": null,
   "id": "2a5f9340",
   "metadata": {},
   "outputs": [],
   "source": [
    "df_d = pd.read_csv('snapshot-report-d.csv')\n",
    "df_h = pd.read_csv('snapshot-report-h.csv')\n",
    "df_p = pd.read_csv('dao_alloc_full.csv')"
   ]
  },
  {
   "cell_type": "code",
   "execution_count": null,
   "id": "b210529c",
   "metadata": {},
   "outputs": [],
   "source": [
    "#dropping columns which not needed"
   ]
  },
  {
   "cell_type": "code",
   "execution_count": null,
   "id": "befa484b",
   "metadata": {},
   "outputs": [],
   "source": [
    "df_h = df_h.drop(columns=['timestamp', 'dateUtc', 'authorIpfsHash'])\n",
    "df_d = df_d.drop(columns=['timestamp', 'dateUtc', 'authorIpfsHash'])"
   ]
  },
  {
   "cell_type": "code",
   "execution_count": null,
   "id": "7bb99d01",
   "metadata": {},
   "outputs": [],
   "source": [
    "#renaming the \"choice\" variable to the proposal number"
   ]
  },
  {
   "cell_type": "code",
   "execution_count": null,
   "id": "fe788bf2",
   "metadata": {},
   "outputs": [],
   "source": [
    "df_h.columns = ['address', 'h5', 'balance_h', 'h4', 'h3', 'h2', 'h7']\n",
    "df_d.columns = ['address', 'd12', 'balance_d', 'd3', 'd2', 'd6', 'd7', 'd14', 'd10']"
   ]
  },
  {
   "cell_type": "code",
   "execution_count": null,
   "id": "8ce49c84",
   "metadata": {},
   "outputs": [],
   "source": [
    "#changing NAN to 0"
   ]
  },
  {
   "cell_type": "code",
   "execution_count": null,
   "id": "a615fcb4",
   "metadata": {},
   "outputs": [],
   "source": [
    "df_h = df_h.fillna(0)\n",
    "df_d = df_d.fillna(0)"
   ]
  },
  {
   "cell_type": "code",
   "execution_count": null,
   "id": "f9b1b0d9",
   "metadata": {},
   "outputs": [],
   "source": [
    "#recoding weight to 1"
   ]
  },
  {
   "cell_type": "code",
   "execution_count": null,
   "id": "90c06ca0",
   "metadata": {},
   "outputs": [],
   "source": [
    "df_h['h5'] = df_h['h5'].apply(lambda x: 1 if x != 0 else 0)\n",
    "df_h['h4'] = df_h['h4'].apply(lambda x: 1 if x != 0 else 0)\n",
    "df_h['h3'] = df_h['h3'].apply(lambda x: 1 if x != 0 else 0)\n",
    "df_h['h2'] = df_h['h2'].apply(lambda x: 1 if x != 0 else 0)\n",
    "df_h['h7'] = df_h['h7'].apply(lambda x: 1 if x != 0 else 0)"
   ]
  },
  {
   "cell_type": "code",
   "execution_count": null,
   "id": "79ccd06d",
   "metadata": {},
   "outputs": [],
   "source": [
    "df_d['d12'] = df_d['d12'].apply(lambda x: 1 if x != 0 else 0)\n",
    "df_d['d3'] = df_d['d3'].apply(lambda x: 1 if x != 0 else 0)\n",
    "df_d['d2'] = df_d['d2'].apply(lambda x: 1 if x != 0 else 0)\n",
    "df_d['d6'] = df_d['d6'].apply(lambda x: 1 if x != 0 else 0)\n",
    "df_d['d7'] = df_d['d7'].apply(lambda x: 1 if x != 0 else 0)\n",
    "df_d['d14'] = df_d['d14'].apply(lambda x: 1 if x != 0 else 0)\n",
    "df_d['d10'] = df_d['d10'].apply(lambda x: 1 if x != 0 else 0)"
   ]
  },
  {
   "cell_type": "code",
   "execution_count": null,
   "id": "319707f1",
   "metadata": {},
   "outputs": [],
   "source": [
    "#changing addresses to lower case"
   ]
  },
  {
   "cell_type": "code",
   "execution_count": null,
   "id": "2dcdd0c8",
   "metadata": {},
   "outputs": [],
   "source": [
    "df_d['address'] = df_d['address'].str.lower()\n",
    "df_h['address'] = df_h['address'].str.lower()\n",
    "df_p['add'] = df_p['add'].str.lower()"
   ]
  },
  {
   "cell_type": "code",
   "execution_count": null,
   "id": "6d654ecf",
   "metadata": {},
   "outputs": [],
   "source": [
    "#removing duplicates and selecting the accounts with higher than 0 scores"
   ]
  },
  {
   "cell_type": "code",
   "execution_count": null,
   "id": "7fd7ab89",
   "metadata": {
    "scrolled": false
   },
   "outputs": [],
   "source": [
    "df_p2 = (df_p.groupby(['add']).agg({'score': ['max'], 'NFT_status': ['first']})).reset_index(drop=False)\n",
    "df_p2.head(3)"
   ]
  },
  {
   "cell_type": "code",
   "execution_count": null,
   "id": "1cfc4bf7",
   "metadata": {
    "scrolled": true
   },
   "outputs": [],
   "source": [
    "df_p2.columns = ['address', 'H_score', 'NFT_status']"
   ]
  },
  {
   "cell_type": "code",
   "execution_count": null,
   "id": "179e0e03",
   "metadata": {},
   "outputs": [],
   "source": [
    "df_p2 = df_p2.dropna().reset_index(drop=True)"
   ]
  },
  {
   "cell_type": "code",
   "execution_count": null,
   "id": "7d0b6ce0",
   "metadata": {},
   "outputs": [],
   "source": [
    "#merging the dataframes"
   ]
  },
  {
   "cell_type": "code",
   "execution_count": null,
   "id": "2493f80b",
   "metadata": {},
   "outputs": [],
   "source": [
    "df_m = pd.merge(df, df_p2, how=\"left\", on=[\"address\"])"
   ]
  },
  {
   "cell_type": "code",
   "execution_count": null,
   "id": "ad6a48e1",
   "metadata": {},
   "outputs": [],
   "source": [
    "df_m = pd.merge(df_m, df_h, how=\"left\", on=[\"address\"])"
   ]
  },
  {
   "cell_type": "code",
   "execution_count": null,
   "id": "8123092b",
   "metadata": {},
   "outputs": [],
   "source": [
    "df_m = pd.merge(df_m, df_d, how=\"left\", on=[\"address\"])"
   ]
  },
  {
   "cell_type": "code",
   "execution_count": null,
   "id": "9696ed57",
   "metadata": {},
   "outputs": [],
   "source": [
    "#maximyzing the number of available balance"
   ]
  },
  {
   "cell_type": "code",
   "execution_count": null,
   "id": "1d68cb6c",
   "metadata": {},
   "outputs": [],
   "source": [
    "df_m['balance'] = df_m['balance_d'].fillna(df_m['balance_h'])"
   ]
  },
  {
   "cell_type": "code",
   "execution_count": null,
   "id": "3bc0f08a",
   "metadata": {},
   "outputs": [],
   "source": [
    "#subdataframe for voters"
   ]
  },
  {
   "cell_type": "code",
   "execution_count": null,
   "id": "27b8af2f",
   "metadata": {},
   "outputs": [],
   "source": [
    "dai_voters = df_m.dropna(subset=['balance_d']).reset_index(drop=True)\n",
    "hopr_voters = df_m.dropna(subset=['balance_h']).reset_index(drop=True)\n",
    "forum = df_m.dropna(subset=['NFT_status']).reset_index(drop=True)"
   ]
  },
  {
   "cell_type": "code",
   "execution_count": null,
   "id": "48ea6636",
   "metadata": {},
   "outputs": [],
   "source": [
    "#creating variable for voters, who have scoosen proposal 12|7 in dai or 4|5 in hopr"
   ]
  },
  {
   "cell_type": "code",
   "execution_count": null,
   "id": "545c3672",
   "metadata": {
    "scrolled": true
   },
   "outputs": [],
   "source": [
    "dai_voters['dai_proposal_12|7'] = (dai_voters['d12'] == 1) | (dai_voters['d7'] == 1)\n",
    "hopr_voters['hopr_proposal_4|5'] = (hopr_voters['h4'] == 1) | (hopr_voters['h5'] == 1)"
   ]
  },
  {
   "cell_type": "code",
   "execution_count": null,
   "id": "677db7e3",
   "metadata": {},
   "outputs": [],
   "source": [
    "#size of the d12|d17 voters group "
   ]
  },
  {
   "cell_type": "code",
   "execution_count": null,
   "id": "6431d349",
   "metadata": {
    "scrolled": true
   },
   "outputs": [],
   "source": [
    "dai_voters['dai_proposal_12|7'].value_counts()"
   ]
  },
  {
   "cell_type": "code",
   "execution_count": null,
   "id": "af039c93",
   "metadata": {
    "scrolled": true
   },
   "outputs": [],
   "source": [
    "hopr_voters['hopr_proposal_4|5'].value_counts()"
   ]
  },
  {
   "cell_type": "code",
   "execution_count": null,
   "id": "5b96bc08",
   "metadata": {},
   "outputs": [],
   "source": [
    "exp_dai = ['dai_proposal_12|7']\n",
    "exp_hopr = ['hopr_proposal_4|5']\n",
    "exp_forum = ['NFT_status']"
   ]
  },
  {
   "cell_type": "code",
   "execution_count": null,
   "id": "35e0fcaa",
   "metadata": {
    "scrolled": true
   },
   "outputs": [],
   "source": [
    "summary(dai_voters, dep, exp_dai)"
   ]
  },
  {
   "cell_type": "code",
   "execution_count": null,
   "id": "4ec772b8",
   "metadata": {
    "scrolled": false
   },
   "outputs": [],
   "source": [
    "summary(hopr_voters, dep, exp_hopr)"
   ]
  },
  {
   "cell_type": "code",
   "execution_count": null,
   "id": "7fc80320",
   "metadata": {},
   "outputs": [],
   "source": [
    "summary(forum, dep, exp_forum)"
   ]
  },
  {
   "cell_type": "markdown",
   "id": "5026e028",
   "metadata": {},
   "source": []
  }
 ],
 "metadata": {
  "kernelspec": {
   "display_name": "Python 3 (ipykernel)",
   "language": "python",
   "name": "python3"
  },
  "language_info": {
   "codemirror_mode": {
    "name": "ipython",
    "version": 3
   },
   "file_extension": ".py",
   "mimetype": "text/x-python",
   "name": "python",
   "nbconvert_exporter": "python",
   "pygments_lexer": "ipython3",
   "version": "3.7.1"
  }
 },
 "nbformat": 4,
 "nbformat_minor": 5
}
