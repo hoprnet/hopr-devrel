{
  "nbformat": 4,
  "nbformat_minor": 0,
  "metadata": {
    "colab": {
      "name": "HOPR-NFT-Tokens.ipynb",
      "provenance": [],
      "collapsed_sections": [
        "dLK4urHJUVFt",
        "m36qspE2yT3L",
        "-aPQA4FHvVRr",
        "_aWrGMPe2p-c",
        "_lUfBTQX7DtZ",
        "xMcjqUcpDSTD",
        "VuzLSaVnFkuy",
        "d8Z6DQmlG6QN",
        "rzjuX699I4gk",
        "fM43HbS-KBez",
        "RvJPLajAL0Rk",
        "5A7DMehJMylg",
        "SqFIcUQXSMCL",
        "9USIG5zTyVxN",
        "k7sN4W7ZiXKr",
        "gvTfFR4iie_q",
        "HKlVbYyCijoy"
      ],
      "authorship_tag": "ABX9TyNKEGSazD2lrzCwpJwdeysV",
      "include_colab_link": true
    },
    "kernelspec": {
      "name": "python3",
      "display_name": "Python 3"
    },
    "language_info": {
      "name": "python"
    }
  },
  "cells": [
    {
      "cell_type": "markdown",
      "metadata": {
        "id": "view-in-github",
        "colab_type": "text"
      },
      "source": [
        "<a href=\"https://colab.research.google.com/github/james-monahan/hopr-devrel/blob/QV-snapshot-game/analytics/QV-snapshot-game/HOPR_NFT_Tokens.ipynb\" target=\"_parent\"><img src=\"https://colab.research.google.com/assets/colab-badge.svg\" alt=\"Open In Colab\"/></a>"
      ]
    },
    {
      "cell_type": "markdown",
      "source": [
        "#Imports and Data"
      ],
      "metadata": {
        "id": "dLK4urHJUVFt"
      }
    },
    {
      "cell_type": "code",
      "execution_count": null,
      "metadata": {
        "id": "YeQnwzYvuFTI"
      },
      "outputs": [],
      "source": [
        "import requests\n",
        "import json\n",
        "import pandas as pd\n",
        "import time\n",
        "import numpy as np"
      ]
    },
    {
      "cell_type": "code",
      "source": [
        "#retrieve proposals\n",
        "url = \"https://hub.snapshot.org/graphql\"\n",
        "\n",
        "payload=\"{\\\"query\\\":\\\"query Proposals {\\\\r\\\\n  proposals(where: {space_in: [\\\\\\\"qvgame.hopr.eth\\\\\\\", \\\\\\\"HOPR DAO Voting Games\\\\\\\"], state: \\\\\\\"closed\\\\\\\"}, orderBy: \\\\\\\"created\\\\\\\", orderDirection: asc) {\\\\r\\\\n    id\\\\r\\\\n    scores\\\\r\\\\n    scores_by_strategy\\\\r\\\\n    scores_state\\\\r\\\\n    scores_total\\\\r\\\\n    scores_updated\\\\r\\\\n    votes\\\\r\\\\n    title\\\\r\\\\n    body\\\\r\\\\n    choices\\\\r\\\\n    start\\\\r\\\\n    end\\\\r\\\\n    snapshot\\\\r\\\\n    state\\\\r\\\\n    author\\\\r\\\\n    space {\\\\r\\\\n      id\\\\r\\\\n      name\\\\r\\\\n    }\\\\r\\\\n  }\\\\r\\\\n}\\\",\\\"variables\\\":{}}\"\n",
        "headers = {\n",
        "  'Content-Type': 'application/json'\n",
        "}\n",
        "\n",
        "proposals = requests.request(\"POST\", url, headers=headers, data=payload)"
      ],
      "metadata": {
        "id": "CZGFkmzjuLlu"
      },
      "execution_count": null,
      "outputs": []
    },
    {
      "cell_type": "code",
      "source": [
        "#convert to dataframe and extract fields\n",
        "proposals_data = json.loads(proposals.text)\n",
        "proposals_df = pd.json_normalize(proposals_data[\"data\"], \"proposals\" )\n",
        "prop_id = proposals_df[\"id\"].to_list()\n",
        "prop_title = proposals_df[\"title\"].to_list()\n",
        "prop_choices = proposals_df[\"choices\"].to_list()\n",
        "prop_votes = proposals_df[\"votes\"].to_list()\n",
        "proposal_mapping = dict(zip(prop_id, prop_title))\n",
        "choices_mapping = dict(zip(prop_id, prop_choices))\n",
        "votes_mapping = dict(zip(prop_title, prop_votes))"
      ],
      "metadata": {
        "id": "aoGsrrtKuTZu"
      },
      "execution_count": null,
      "outputs": []
    },
    {
      "cell_type": "code",
      "source": [
        "#retrive Votes data per proposal and create dataframe\n",
        "votes_df = {}\n",
        "\n",
        "for counter, proposal_ in enumerate(prop_id):\n",
        "  url = \"https://hub.snapshot.org/graphql\"\n",
        "\n",
        "  payload=\"{\\\"query\\\":\\\"query Votes {\\\\r\\\\n  votes(first: 1000, skip: 0, where: {proposal: \\\\\\\"zzzzzzzzzzzz\\\\\\\"}) {\\\\r\\\\n    id\\\\r\\\\n    proposal {\\\\r\\\\n      id\\\\r\\\\n    }\\\\r\\\\n    voter\\\\r\\\\n    created\\\\r\\\\n    choice\\\\r\\\\n    metadata\\\\r\\\\n    vp\\\\r\\\\n    vp_state\\\\r\\\\n    vp_by_strategy\\\\r\\\\n    space {\\\\r\\\\n      id\\\\r\\\\n    }\\\\r\\\\n  }\\\\r\\\\n}\\\",\\\"variables\\\":{}}\".replace('zzzzzzzzzzzz', proposal_)\n",
        "  headers = {\n",
        "    'Content-Type': 'application/json'\n",
        "  }\n",
        "\n",
        "  votes = requests.request(\"POST\", url, headers=headers, data=payload)\n",
        "  votes_data = json.loads(votes.text)\n",
        "  df = pd.json_normalize(votes_data[\"data\"], \"votes\" )\n",
        "  df[\"title\"] = df[\"proposal.id\"].map(proposal_mapping) \n",
        "  df[\"choices\"] = df[\"proposal.id\"].map(choices_mapping)\n",
        "  votes_df[df[\"title\"][0]] = df\n",
        "  # votes_df.append(df)\n",
        "  time.sleep(1)\n",
        "  print(counter, end = '...')"
      ],
      "metadata": {
        "colab": {
          "base_uri": "https://localhost:8080/"
        },
        "id": "QJfqDq4buU5q",
        "outputId": "7a29cb2a-f031-4100-8675-5c3fbad63fca"
      },
      "execution_count": null,
      "outputs": [
        {
          "output_type": "stream",
          "name": "stdout",
          "text": [
            "0...1...2...3...4...5...6...7...8...9...10..."
          ]
        }
      ]
    },
    {
      "cell_type": "markdown",
      "source": [
        "#NFT Level"
      ],
      "metadata": {
        "id": "m36qspE2yT3L"
      }
    },
    {
      "cell_type": "code",
      "source": [
        "phase_one =  set(votes_df['Phase 1 Part 1: Find your team'].voter) &\\\n",
        "             set(votes_df['Phase 1 Part 2: Intro to QV'].voter) &\\\n",
        "             set(votes_df['Phase 1 Part 3: Split Choice QV'].voter)"
      ],
      "metadata": {
        "id": "9W7rR-pByW3B"
      },
      "execution_count": null,
      "outputs": []
    },
    {
      "cell_type": "code",
      "source": [
        "phase_two =  set(votes_df['Phase 2 Part 1: Simple Coordination'].voter) &\\\n",
        "             set(votes_df['Phase 2 Part 2: Complex Coordination'].voter) &\\\n",
        "             set(votes_df['Phase 2 Part 2: Disrupted Coordination 1'].voter) &\\\n",
        "             set(votes_df['Phase 2 Part 2: Disrupted Coordination 2'].voter)"
      ],
      "metadata": {
        "id": "vbkJ7rbIyYoE"
      },
      "execution_count": null,
      "outputs": []
    },
    {
      "cell_type": "code",
      "source": [
        "phase_three =  set(votes_df['Phase 3 Part 2: Adversarial Voting II'].voter) &\\\n",
        "               set(votes_df['Phase 3 Part 3: Adversarial Voting III'].voter)\n",
        "\n",
        "# set(votes_df['Phase 3 Part 1: Adversarial Voting I'].voter) &\\"
      ],
      "metadata": {
        "id": "ywXxjZnDyYbN"
      },
      "execution_count": null,
      "outputs": []
    },
    {
      "cell_type": "code",
      "source": [
        "exclude = set(['0x29c8264AeB4B8cb0F14DEA198948A9cA54E0E828', '0xa27A79573ec108a23432Aa562e24541d8b691A6c',\n",
        "               '0x90422fc0c841af68ae481AA5ABd7028BD126C1d3', '0x986E9e1bbd4D582C73aaD70DEDD8780EBA351D2A', \n",
        "               '0x8b4E5024CE949Ff05084f211658719929E3Bea71', '0xf38778ad9f2a401395A54A6c47e3e91F39bc028b', \n",
        "               '0x931cC23c0660789AB17B1c722341A6C811985Ed3', '0x12138Db1E794B20D21266c3E6CcdabCFa2680750', \n",
        "               '0xA45a5c1333B7776ef04844887ad22428C145Ad1C', '0x801C864c4890DdE8A4950A8075717DB48E78b70f', \n",
        "               '0x51E4dEcE3f065c380A96702082EBD468a6Db6E0A', '0x321302B0Af369F5c93c6b0AAE6eF21DaDe211044', \n",
        "               '0x269A0266CcDee7c23833B5E11443D5C3758a290a', '0xb7c1b4890ee41a00Fe5a0b97714f049276935bA6'])"
      ],
      "metadata": {
        "id": "Hok9AA_MzH9T"
      },
      "execution_count": null,
      "outputs": []
    },
    {
      "cell_type": "code",
      "source": [
        "def assign_result(df):\n",
        "  if df[\"phase_one\"] + df[\"phase_two\"] + df[\"phase_three\"] == 3:\n",
        "    return 'diamond'\n",
        "  elif df[\"phase_one\"] + df[\"phase_two\"] + df[\"phase_three\"] == 2:\n",
        "    return 'gold'\n",
        "  elif df[\"phase_one\"] + df[\"phase_two\"] + df[\"phase_three\"] == 1:\n",
        "    return 'silver'\n",
        "  else:\n",
        "    return None"
      ],
      "metadata": {
        "id": "2noqarLYznxO"
      },
      "execution_count": null,
      "outputs": []
    },
    {
      "cell_type": "code",
      "source": [
        "all_address = phase_one | phase_two | phase_three\n",
        "all_address = all_address - exclude\n",
        "\n",
        "rewards_df = pd.DataFrame(list(all_address), columns=['eoa'])\n",
        "\n",
        "rewards_df[\"phase_one\"] = rewards_df[\"eoa\"].apply(lambda x: x in phase_one)\n",
        "rewards_df[\"phase_two\"] = rewards_df[\"eoa\"].apply(lambda x: x in phase_two)\n",
        "rewards_df[\"phase_three\"] = rewards_df[\"eoa\"].apply(lambda x: x in phase_three)\n",
        "\n",
        "rewards_df[\"grade\"] = rewards_df.apply(lambda x: assign_result(x), axis=1)\n",
        "\n",
        "rewards_df = rewards_df[['eoa', 'grade', 'phase_one', 'phase_two', 'phase_three']]\n",
        "\n",
        "rewards_df[\"grade\"].value_counts()"
      ],
      "metadata": {
        "colab": {
          "base_uri": "https://localhost:8080/"
        },
        "id": "vRzGw7fJzYDm",
        "outputId": "086786ca-e531-4827-ebb0-effd263fa5dd"
      },
      "execution_count": null,
      "outputs": [
        {
          "output_type": "execute_result",
          "data": {
            "text/plain": [
              "diamond    214\n",
              "gold        65\n",
              "silver      43\n",
              "Name: grade, dtype: int64"
            ]
          },
          "metadata": {},
          "execution_count": 11
        }
      ]
    },
    {
      "cell_type": "code",
      "source": [
        "rewards_df"
      ],
      "metadata": {
        "id": "EvXcJ_2x0Cvk",
        "colab": {
          "base_uri": "https://localhost:8080/"
        },
        "outputId": "6c2a3d27-0624-43f6-c609-c44899273b76"
      },
      "execution_count": null,
      "outputs": [
        {
          "output_type": "execute_result",
          "data": {
            "text/plain": [
              "                                            eoa    grade  phase_one  \\\n",
              "0    0xEd534F3F4CDF9df19C3082189964E5e8D162D862  diamond       True   \n",
              "1    0xd24c941f5Edbe451395544658c0dF6dF056c6aD0  diamond       True   \n",
              "2    0x35e939c53B208CCec114c6b92f6d754b023dff4D  diamond       True   \n",
              "3    0xe1Da425d1880D3243f9Dfd3c9C2C3f09E73ACd6d  diamond       True   \n",
              "4    0x617C716cd4eeF3D20d5a0CACAC9518647Bb19173  diamond       True   \n",
              "..                                          ...      ...        ...   \n",
              "317  0x9062A96B9E947b2b57283e705c97B871f5eB6561  diamond       True   \n",
              "318  0x852926150De3854D61319021BD88F239C1Cc4C38  diamond       True   \n",
              "319  0xd164984268bC6e81Ce9a5109C955b96E4edBEE89   silver       True   \n",
              "320  0x93803d334edFF050EB333F0337Ac0E728932bAA3  diamond       True   \n",
              "321  0x542aF4Dda22Ae22BAE41ea32FAFcfB6aF00D8ac5   silver      False   \n",
              "\n",
              "     phase_two  phase_three  \n",
              "0         True         True  \n",
              "1         True         True  \n",
              "2         True         True  \n",
              "3         True         True  \n",
              "4         True         True  \n",
              "..         ...          ...  \n",
              "317       True         True  \n",
              "318       True         True  \n",
              "319      False        False  \n",
              "320       True         True  \n",
              "321       True        False  \n",
              "\n",
              "[322 rows x 5 columns]"
            ],
            "text/html": [
              "\n",
              "  <div id=\"df-72e93936-6071-41a7-8a92-3a415bd95f6a\">\n",
              "    <div class=\"colab-df-container\">\n",
              "      <div>\n",
              "<style scoped>\n",
              "    .dataframe tbody tr th:only-of-type {\n",
              "        vertical-align: middle;\n",
              "    }\n",
              "\n",
              "    .dataframe tbody tr th {\n",
              "        vertical-align: top;\n",
              "    }\n",
              "\n",
              "    .dataframe thead th {\n",
              "        text-align: right;\n",
              "    }\n",
              "</style>\n",
              "<table border=\"1\" class=\"dataframe\">\n",
              "  <thead>\n",
              "    <tr style=\"text-align: right;\">\n",
              "      <th></th>\n",
              "      <th>eoa</th>\n",
              "      <th>grade</th>\n",
              "      <th>phase_one</th>\n",
              "      <th>phase_two</th>\n",
              "      <th>phase_three</th>\n",
              "    </tr>\n",
              "  </thead>\n",
              "  <tbody>\n",
              "    <tr>\n",
              "      <th>0</th>\n",
              "      <td>0xEd534F3F4CDF9df19C3082189964E5e8D162D862</td>\n",
              "      <td>diamond</td>\n",
              "      <td>True</td>\n",
              "      <td>True</td>\n",
              "      <td>True</td>\n",
              "    </tr>\n",
              "    <tr>\n",
              "      <th>1</th>\n",
              "      <td>0xd24c941f5Edbe451395544658c0dF6dF056c6aD0</td>\n",
              "      <td>diamond</td>\n",
              "      <td>True</td>\n",
              "      <td>True</td>\n",
              "      <td>True</td>\n",
              "    </tr>\n",
              "    <tr>\n",
              "      <th>2</th>\n",
              "      <td>0x35e939c53B208CCec114c6b92f6d754b023dff4D</td>\n",
              "      <td>diamond</td>\n",
              "      <td>True</td>\n",
              "      <td>True</td>\n",
              "      <td>True</td>\n",
              "    </tr>\n",
              "    <tr>\n",
              "      <th>3</th>\n",
              "      <td>0xe1Da425d1880D3243f9Dfd3c9C2C3f09E73ACd6d</td>\n",
              "      <td>diamond</td>\n",
              "      <td>True</td>\n",
              "      <td>True</td>\n",
              "      <td>True</td>\n",
              "    </tr>\n",
              "    <tr>\n",
              "      <th>4</th>\n",
              "      <td>0x617C716cd4eeF3D20d5a0CACAC9518647Bb19173</td>\n",
              "      <td>diamond</td>\n",
              "      <td>True</td>\n",
              "      <td>True</td>\n",
              "      <td>True</td>\n",
              "    </tr>\n",
              "    <tr>\n",
              "      <th>...</th>\n",
              "      <td>...</td>\n",
              "      <td>...</td>\n",
              "      <td>...</td>\n",
              "      <td>...</td>\n",
              "      <td>...</td>\n",
              "    </tr>\n",
              "    <tr>\n",
              "      <th>317</th>\n",
              "      <td>0x9062A96B9E947b2b57283e705c97B871f5eB6561</td>\n",
              "      <td>diamond</td>\n",
              "      <td>True</td>\n",
              "      <td>True</td>\n",
              "      <td>True</td>\n",
              "    </tr>\n",
              "    <tr>\n",
              "      <th>318</th>\n",
              "      <td>0x852926150De3854D61319021BD88F239C1Cc4C38</td>\n",
              "      <td>diamond</td>\n",
              "      <td>True</td>\n",
              "      <td>True</td>\n",
              "      <td>True</td>\n",
              "    </tr>\n",
              "    <tr>\n",
              "      <th>319</th>\n",
              "      <td>0xd164984268bC6e81Ce9a5109C955b96E4edBEE89</td>\n",
              "      <td>silver</td>\n",
              "      <td>True</td>\n",
              "      <td>False</td>\n",
              "      <td>False</td>\n",
              "    </tr>\n",
              "    <tr>\n",
              "      <th>320</th>\n",
              "      <td>0x93803d334edFF050EB333F0337Ac0E728932bAA3</td>\n",
              "      <td>diamond</td>\n",
              "      <td>True</td>\n",
              "      <td>True</td>\n",
              "      <td>True</td>\n",
              "    </tr>\n",
              "    <tr>\n",
              "      <th>321</th>\n",
              "      <td>0x542aF4Dda22Ae22BAE41ea32FAFcfB6aF00D8ac5</td>\n",
              "      <td>silver</td>\n",
              "      <td>False</td>\n",
              "      <td>True</td>\n",
              "      <td>False</td>\n",
              "    </tr>\n",
              "  </tbody>\n",
              "</table>\n",
              "<p>322 rows × 5 columns</p>\n",
              "</div>\n",
              "      <button class=\"colab-df-convert\" onclick=\"convertToInteractive('df-72e93936-6071-41a7-8a92-3a415bd95f6a')\"\n",
              "              title=\"Convert this dataframe to an interactive table.\"\n",
              "              style=\"display:none;\">\n",
              "        \n",
              "  <svg xmlns=\"http://www.w3.org/2000/svg\" height=\"24px\"viewBox=\"0 0 24 24\"\n",
              "       width=\"24px\">\n",
              "    <path d=\"M0 0h24v24H0V0z\" fill=\"none\"/>\n",
              "    <path d=\"M18.56 5.44l.94 2.06.94-2.06 2.06-.94-2.06-.94-.94-2.06-.94 2.06-2.06.94zm-11 1L8.5 8.5l.94-2.06 2.06-.94-2.06-.94L8.5 2.5l-.94 2.06-2.06.94zm10 10l.94 2.06.94-2.06 2.06-.94-2.06-.94-.94-2.06-.94 2.06-2.06.94z\"/><path d=\"M17.41 7.96l-1.37-1.37c-.4-.4-.92-.59-1.43-.59-.52 0-1.04.2-1.43.59L10.3 9.45l-7.72 7.72c-.78.78-.78 2.05 0 2.83L4 21.41c.39.39.9.59 1.41.59.51 0 1.02-.2 1.41-.59l7.78-7.78 2.81-2.81c.8-.78.8-2.07 0-2.86zM5.41 20L4 18.59l7.72-7.72 1.47 1.35L5.41 20z\"/>\n",
              "  </svg>\n",
              "      </button>\n",
              "      \n",
              "  <style>\n",
              "    .colab-df-container {\n",
              "      display:flex;\n",
              "      flex-wrap:wrap;\n",
              "      gap: 12px;\n",
              "    }\n",
              "\n",
              "    .colab-df-convert {\n",
              "      background-color: #E8F0FE;\n",
              "      border: none;\n",
              "      border-radius: 50%;\n",
              "      cursor: pointer;\n",
              "      display: none;\n",
              "      fill: #1967D2;\n",
              "      height: 32px;\n",
              "      padding: 0 0 0 0;\n",
              "      width: 32px;\n",
              "    }\n",
              "\n",
              "    .colab-df-convert:hover {\n",
              "      background-color: #E2EBFA;\n",
              "      box-shadow: 0px 1px 2px rgba(60, 64, 67, 0.3), 0px 1px 3px 1px rgba(60, 64, 67, 0.15);\n",
              "      fill: #174EA6;\n",
              "    }\n",
              "\n",
              "    [theme=dark] .colab-df-convert {\n",
              "      background-color: #3B4455;\n",
              "      fill: #D2E3FC;\n",
              "    }\n",
              "\n",
              "    [theme=dark] .colab-df-convert:hover {\n",
              "      background-color: #434B5C;\n",
              "      box-shadow: 0px 1px 3px 1px rgba(0, 0, 0, 0.15);\n",
              "      filter: drop-shadow(0px 1px 2px rgba(0, 0, 0, 0.3));\n",
              "      fill: #FFFFFF;\n",
              "    }\n",
              "  </style>\n",
              "\n",
              "      <script>\n",
              "        const buttonEl =\n",
              "          document.querySelector('#df-72e93936-6071-41a7-8a92-3a415bd95f6a button.colab-df-convert');\n",
              "        buttonEl.style.display =\n",
              "          google.colab.kernel.accessAllowed ? 'block' : 'none';\n",
              "\n",
              "        async function convertToInteractive(key) {\n",
              "          const element = document.querySelector('#df-72e93936-6071-41a7-8a92-3a415bd95f6a');\n",
              "          const dataTable =\n",
              "            await google.colab.kernel.invokeFunction('convertToInteractive',\n",
              "                                                     [key], {});\n",
              "          if (!dataTable) return;\n",
              "\n",
              "          const docLinkHtml = 'Like what you see? Visit the ' +\n",
              "            '<a target=\"_blank\" href=https://colab.research.google.com/notebooks/data_table.ipynb>data table notebook</a>'\n",
              "            + ' to learn more about interactive tables.';\n",
              "          element.innerHTML = '';\n",
              "          dataTable['output_type'] = 'display_data';\n",
              "          await google.colab.output.renderOutput(dataTable, element);\n",
              "          const docLink = document.createElement('div');\n",
              "          docLink.innerHTML = docLinkHtml;\n",
              "          element.appendChild(docLink);\n",
              "        }\n",
              "      </script>\n",
              "    </div>\n",
              "  </div>\n",
              "  "
            ]
          },
          "metadata": {},
          "execution_count": 12
        }
      ]
    },
    {
      "cell_type": "markdown",
      "source": [
        "#Token Distributions\n",
        "\n",
        "https://snapshot.org/#/qvgame.hopr.eth"
      ],
      "metadata": {
        "id": "eKauT2X-utLb"
      }
    },
    {
      "cell_type": "markdown",
      "source": [
        "##Phase 1 Part 1: Find your team \n",
        "Prize: 1000 HOPR Tokens (split evenly amongst correct answers)  \n",
        "(Exclude) Anyone who votes for the wrong team option"
      ],
      "metadata": {
        "id": "-aPQA4FHvVRr"
      }
    },
    {
      "cell_type": "code",
      "source": [
        "P1P1_TeamA = votes_df['Phase 1 Part 1: Find your team'][votes_df['Phase 1 Part 1: Find your team'].vp==100]\n",
        "P1P1_TeamB = votes_df['Phase 1 Part 1: Find your team'][votes_df['Phase 1 Part 1: Find your team'].vp==10_000]\n",
        "P1P1_TeamC = votes_df['Phase 1 Part 1: Find your team'][votes_df['Phase 1 Part 1: Find your team'].vp==1_000_000]\n",
        "\n",
        "P1P1 = pd.DataFrame(\n",
        "       list(P1P1_TeamA[P1P1_TeamA['choice'] == 1].voter) +\\\n",
        "       list(P1P1_TeamB[P1P1_TeamB['choice'] == 2].voter) +\\\n",
        "       list(P1P1_TeamC[P1P1_TeamC['choice'] == 3].voter),\n",
        "       columns= ['eoa'])\n",
        "P1P1['Phase 1 Part 1: Find your team'] = 1000/P1P1.shape[0]\n",
        "\n",
        "rewards_df = rewards_df.merge(P1P1, how='outer', on='eoa')"
      ],
      "metadata": {
        "id": "dryuFSJbuh5c"
      },
      "execution_count": null,
      "outputs": []
    },
    {
      "cell_type": "markdown",
      "source": [
        "##Phase 1 Part 2: Intro to QV\n",
        "Prize: 1000 HOPR Tokens (split evenly amongst correct answers)  \n",
        "(Exclude) Anyone who votes for the wrong team option or splits vote across multiple teams"
      ],
      "metadata": {
        "id": "_aWrGMPe2p-c"
      }
    },
    {
      "cell_type": "code",
      "source": [
        "P1P2_TeamA = votes_df['Phase 1 Part 2: Intro to QV'][votes_df['Phase 1 Part 2: Intro to QV'].vp==100]\n",
        "P1P2_TeamB = votes_df['Phase 1 Part 2: Intro to QV'][votes_df['Phase 1 Part 2: Intro to QV'].vp==10_000]\n",
        "P1P2_TeamC = votes_df['Phase 1 Part 2: Intro to QV'][votes_df['Phase 1 Part 2: Intro to QV'].vp==1_000_000]\n",
        "\n",
        "P1P2 = pd.DataFrame(\n",
        "            list(P1P2_TeamA[P1P2_TeamA[['choice.2', 'choice.3']].sum(axis=1)==0].voter) +\\\n",
        "            list(P1P2_TeamB[P1P2_TeamB[['choice.1', 'choice.3']].sum(axis=1)==0].voter) +\\\n",
        "            list(P1P2_TeamC[P1P2_TeamC[['choice.1', 'choice.2']].sum(axis=1)==0].voter),\n",
        "            columns= ['eoa'])\n",
        "\n",
        "P1P2['Phase 1 Part 2: Intro to QV'] = 1000/P1P2.shape[0]\n",
        "\n",
        "rewards_df = rewards_df.merge(P1P2, how='outer', on='eoa')"
      ],
      "metadata": {
        "id": "vEd4rztguX7p"
      },
      "execution_count": null,
      "outputs": []
    },
    {
      "cell_type": "markdown",
      "source": [
        "##Phase 1 Part 3: Split Choice QV  \n",
        "Prize: \n",
        "- The vote count of the least popular option will be the final score and determine the prize payout.   \n",
        "- Up to 5000 HOPR tokens (split evenly)\n",
        "- No wrong choices  \n",
        "\n",
        "**vote count = (% of choice * thier number of votes)**\n",
        "\n"
      ],
      "metadata": {
        "id": "_lUfBTQX7DtZ"
      }
    },
    {
      "cell_type": "code",
      "source": [
        "pd.options.mode.chained_assignment = None\n",
        "P1P3 = votes_df['Phase 1 Part 3: Split Choice QV'][['voter', 'vp','choice.1', 'choice.2', 'choice.3', 'choice.4', 'choice.5']]\n",
        "P1P3[\"total\"] = P1P3[['choice.1', 'choice.2', 'choice.3', 'choice.4', 'choice.5']].sum(axis=1)\n",
        "P1P3['choice.1'] = (P1P3['choice.1']/P1P3['total']) * P1P3['vp']\n",
        "P1P3['choice.2'] = (P1P3['choice.2']/P1P3['total']) * P1P3['vp']\n",
        "P1P3['choice.3'] = (P1P3['choice.3']/P1P3['total']) * P1P3['vp']\n",
        "P1P3['choice.4'] = (P1P3['choice.4']/P1P3['total']) * P1P3['vp']\n",
        "P1P3['choice.5'] = (P1P3['choice.5']/P1P3['total']) * P1P3['vp']\n",
        "print(\"Vote count of the least popular option:\",min(P1P3['choice.1'].sum(), P1P3['choice.2'].sum(), P1P3['choice.3'].sum(), P1P3['choice.4'].sum(), P1P3['choice.5'].sum()))"
      ],
      "metadata": {
        "colab": {
          "base_uri": "https://localhost:8080/"
        },
        "id": "L6pDyKgx74Qu",
        "outputId": "0f8a5795-caa3-4712-ad76-f550aec5a1ba"
      },
      "execution_count": null,
      "outputs": [
        {
          "output_type": "stream",
          "name": "stdout",
          "text": [
            "Vote count of the least popular option: 142944.2929155997\n"
          ]
        }
      ]
    },
    {
      "cell_type": "markdown",
      "source": [
        "###Least popular count exceeds 5,000, prize is 5,000"
      ],
      "metadata": {
        "id": "k6Nwjka6AVas"
      }
    },
    {
      "cell_type": "code",
      "source": [
        "P1P3 = P1P3[['voter']]\n",
        "P1P3.columns = ['eoa']\n",
        "P1P3['Phase 1 Part 3: Split Choice QV'] = 5000/P1P3.shape[0]\n",
        "rewards_df = rewards_df.merge(P1P3, how='outer', on='eoa')"
      ],
      "metadata": {
        "id": "KGJ-pfjfA-FV"
      },
      "execution_count": null,
      "outputs": []
    },
    {
      "cell_type": "markdown",
      "source": [
        "##Phase 2, Part 1 Simple Coordination:\n",
        "Prize: \n",
        "- 2000 HOPR Tokens (split evenly)   \n",
        "- No wrong choices\n"
      ],
      "metadata": {
        "id": "xMcjqUcpDSTD"
      }
    },
    {
      "cell_type": "code",
      "source": [
        "#Option 1 > Option 2 > Option 3 > Option 4 > Option 5\n",
        "#verify option 5 minimum vote count\n",
        "votes_df['Phase 2 Part 1: Simple Coordination'].vp.sum() * .0972"
      ],
      "metadata": {
        "colab": {
          "base_uri": "https://localhost:8080/"
        },
        "id": "dal3tpH6sEGK",
        "outputId": "023f14f0-bfd0-4bbe-dd41-60627e8ed159"
      },
      "execution_count": null,
      "outputs": [
        {
          "output_type": "execute_result",
          "data": {
            "text/plain": [
              "67252.68"
            ]
          },
          "metadata": {},
          "execution_count": 17
        }
      ]
    },
    {
      "cell_type": "code",
      "source": [
        "P2P1 = pd.DataFrame(\n",
        "            list(votes_df['Phase 2 Part 1: Simple Coordination'].voter),\n",
        "            columns= ['eoa'])\n",
        "\n",
        "P2P1['Phase 2 Part 1: Simple Coordination'] = 2000/P2P1.shape[0]\n",
        "rewards_df = rewards_df.merge(P2P1, how='outer', on='eoa')"
      ],
      "metadata": {
        "id": "ZQvMmAKXB2XI"
      },
      "execution_count": null,
      "outputs": []
    },
    {
      "cell_type": "markdown",
      "source": [
        "##Phase 2 Part 2: Complex Coordination  \n",
        "Prize: \n",
        "- 2500 HOPR Tokens (split evenly)   \n",
        "- No wrong choices"
      ],
      "metadata": {
        "id": "VuzLSaVnFkuy"
      }
    },
    {
      "cell_type": "code",
      "source": [
        "#verify less than 1% margin of error\n",
        "(30-29.92) + (25-24.84) + (20-19.79) + (15.44-15) + (10.02-10)"
      ],
      "metadata": {
        "colab": {
          "base_uri": "https://localhost:8080/"
        },
        "id": "MvFgvZ6toY7-",
        "outputId": "7735d7eb-890c-4334-ad4b-ddeb58f387b8"
      },
      "execution_count": null,
      "outputs": [
        {
          "output_type": "execute_result",
          "data": {
            "text/plain": [
              "0.9099999999999984"
            ]
          },
          "metadata": {},
          "execution_count": 19
        }
      ]
    },
    {
      "cell_type": "code",
      "source": [
        "P2P2 = pd.DataFrame(\n",
        "            list(votes_df['Phase 2 Part 2: Complex Coordination'].voter),\n",
        "            columns= ['eoa'])\n",
        "\n",
        "P2P2['Phase 2 Part 2: Complex Coordination'] = 2500/P2P2.shape[0]\n",
        "rewards_df = rewards_df.merge(P2P2, how='outer', on='eoa')"
      ],
      "metadata": {
        "id": "ZuqDETRLE0g7"
      },
      "execution_count": null,
      "outputs": []
    },
    {
      "cell_type": "markdown",
      "source": [
        "##Phase 2 Part 2: Disrupted Coordination 1\n",
        "Prize: \n",
        "- 2000 HOPR Tokens (split evenly)   \n",
        "- (Exclude) Team A member voting for Option 3 or 4\n",
        "- (Exclude)Team B member voting for Option 1 or 2"
      ],
      "metadata": {
        "id": "d8Z6DQmlG6QN"
      }
    },
    {
      "cell_type": "code",
      "source": [
        "#verify 5% error margin\n",
        "four = 48.29\n",
        "three = 39.05 \n",
        "two = 8.43 \n",
        "one = 4.23\n",
        "#5% margin error\n",
        "# Team A: Make Option 1 receive half as many votes as Option 2.\n",
        "# Team B: Make Option 3 receive 10% fewer votes than Option 4\n",
        "\n",
        "2-(two/one), (four*.9)-three"
      ],
      "metadata": {
        "colab": {
          "base_uri": "https://localhost:8080/"
        },
        "id": "OaAeNztPox-M",
        "outputId": "8dbe72be-a6c1-4755-bcc5-cd9a8d758858"
      },
      "execution_count": null,
      "outputs": [
        {
          "output_type": "execute_result",
          "data": {
            "text/plain": [
              "(0.007092198581560627, 4.411000000000001)"
            ]
          },
          "metadata": {},
          "execution_count": 21
        }
      ]
    },
    {
      "cell_type": "code",
      "source": [
        "P2P2P1_TeamA = votes_df['Phase 2 Part 2: Disrupted Coordination 1'][votes_df['Phase 2 Part 2: Disrupted Coordination 1'].vp == 100] \n",
        "P2P2P1_TeamB = votes_df['Phase 2 Part 2: Disrupted Coordination 1'][votes_df['Phase 2 Part 2: Disrupted Coordination 1'].vp == 10000]\n",
        "\n",
        "\n",
        "P2P2P1 = pd.DataFrame(\n",
        "            (list(P2P2P1_TeamA[P2P2P1_TeamA[[\"choice.3\", \"choice.4\"]].sum(axis=1)==0].voter) +\\\n",
        "             list(P2P2P1_TeamB[P2P2P1_TeamB[[\"choice.1\", \"choice.2\"]].sum(axis=1)==0].voter)),\n",
        "             columns= ['eoa'])\n",
        "\n",
        "P2P2P1['Phase 2 Part 2: Disrupted Coordination 1'] = 2000/P2P2P1.shape[0]\n",
        "rewards_df = rewards_df.merge(P2P2P1, how='outer', on='eoa')"
      ],
      "metadata": {
        "id": "tpcg4cnmIHGr"
      },
      "execution_count": null,
      "outputs": []
    },
    {
      "cell_type": "markdown",
      "source": [
        "##Phase 2 Part 2: Disrupted Coordination 2\n",
        "Prize: \n",
        "- 2000 HOPR Tokens (for whichever team gets closest to achieving their goal)   \n",
        "- (Exclude) Team A (Didn't win goal)\n",
        "- (Exclude) Team B member voting for Option 1\n",
        "\n"
      ],
      "metadata": {
        "id": "rzjuX699I4gk"
      }
    },
    {
      "cell_type": "code",
      "source": [
        "three = 61.68 \n",
        "two = 32.27 \n",
        "one = 6.05\n",
        "#Goals\n",
        "# A Make Option 1 and Option 2 combined receive 40% of the vote.\n",
        "# B Make Option 3 receive twice as many votes as Option 2\n",
        "(40 - (one+two)), (2 - (three/two))"
      ],
      "metadata": {
        "colab": {
          "base_uri": "https://localhost:8080/"
        },
        "id": "b6jU8lBhbFr0",
        "outputId": "36b55654-22df-4ede-fcbf-67e084fe6480"
      },
      "execution_count": null,
      "outputs": [
        {
          "output_type": "execute_result",
          "data": {
            "text/plain": [
              "(1.6799999999999997, 0.088627207933065)"
            ]
          },
          "metadata": {},
          "execution_count": 23
        }
      ]
    },
    {
      "cell_type": "code",
      "source": [
        "P2P2P2_TeamA = votes_df['Phase 2 Part 2: Disrupted Coordination 2'][votes_df['Phase 2 Part 2: Disrupted Coordination 2'].vp == 100] \n",
        "P2P2P2_TeamB = votes_df['Phase 2 Part 2: Disrupted Coordination 2'][votes_df['Phase 2 Part 2: Disrupted Coordination 2'].vp == 10000]\n",
        "\n",
        "P2P2P2 =  pd.DataFrame(\n",
        "              list(P2P2P2_TeamB[P2P2P2_TeamB[\"choice.1\"].isna()].voter),\n",
        "               columns= ['eoa']) \n",
        "\n",
        "P2P2P2['Phase 2 Part 2: Disrupted Coordination 2'] = 2000/P2P2P2.shape[0]\n",
        "rewards_df = rewards_df.merge(P2P2P2, how='outer', on='eoa')"
      ],
      "metadata": {
        "id": "VWa5xJmtGwdP"
      },
      "execution_count": null,
      "outputs": []
    },
    {
      "cell_type": "markdown",
      "source": [
        "##Phase 3 Part 1: Adversarial Voting I\n",
        "Prize: \n",
        "- 2000 HOPR Tokens (split evenly)   \n",
        "- (Exclude) Anyone voting for Option 1 or 2"
      ],
      "metadata": {
        "id": "fM43HbS-KBez"
      }
    },
    {
      "cell_type": "code",
      "source": [
        "#100% will be awarded if Option 1 and 2 come in the bottom two places: TRUE"
      ],
      "metadata": {
        "id": "EO6F3_jbu2Dk"
      },
      "execution_count": null,
      "outputs": []
    },
    {
      "cell_type": "code",
      "source": [
        "P3P1 = pd.DataFrame(\n",
        "              list(votes_df['Phase 3 Part 1: Adversarial Voting I']\\\n",
        "                  [votes_df['Phase 3 Part 1: Adversarial Voting I'][['choice.1', 'choice.2']].sum(axis=1) == 0].voter),\n",
        "                  columns= ['eoa']) \n",
        "\n",
        "P3P1 = P3P1[P3P1['eoa'] != '0x29c8264AeB4B8cb0F14DEA198948A9cA54E0E828']\n",
        "\n",
        "P3P1['Phase 3 Part 1: Adversarial Voting I'] = 2000/P3P1.shape[0]\n",
        "rewards_df = rewards_df.merge(P3P1, how='outer', on='eoa')"
      ],
      "metadata": {
        "id": "HoSaBpJHJ0vX"
      },
      "execution_count": null,
      "outputs": []
    },
    {
      "cell_type": "markdown",
      "source": [
        "##Phase 3 Part 2: Adversarial Voting II\n",
        "Prize: \n",
        "- 3000 HOPR Tokens (split evenly)   \n",
        "- (Exclude) Anyone voting for Option 1 or 2"
      ],
      "metadata": {
        "id": "RvJPLajAL0Rk"
      }
    },
    {
      "cell_type": "code",
      "source": [
        "# 100% will be awarded if Option 1 and 2 come in the bottom two places: TRUE"
      ],
      "metadata": {
        "id": "z19q4qtcvZYe"
      },
      "execution_count": null,
      "outputs": []
    },
    {
      "cell_type": "code",
      "source": [
        "P3P2 = pd.DataFrame(\n",
        "              list(votes_df['Phase 3 Part 2: Adversarial Voting II']\\\n",
        "              [votes_df['Phase 3 Part 2: Adversarial Voting II'][['choice.1', 'choice.2']].sum(axis=1) == 0].voter),\n",
        "               columns= ['eoa']) \n",
        "\n",
        "P3P2['Phase 3 Part 2: Adversarial Voting II'] = 3000/P3P2.shape[0]\n",
        "rewards_df = rewards_df.merge(P3P2, how='outer', on='eoa')"
      ],
      "metadata": {
        "id": "WJQJWyBALupx"
      },
      "execution_count": null,
      "outputs": []
    },
    {
      "cell_type": "markdown",
      "source": [
        "##Phase 3 Part 3: Adversarial Voting III\n",
        "Prize: \n",
        "- 7000 HOPR Tokens \n",
        "- 4000 will be awarded if Option 3 or 4 wins. \n",
        "- An additional 3000 will be awarded to the team whose proposal wins (Team B with Option 4)\n",
        "- (Exclude) Anyone voting for Option 1 or 2"
      ],
      "metadata": {
        "id": "5A7DMehJMylg"
      }
    },
    {
      "cell_type": "code",
      "source": [
        "#Option 4 wins, Team B"
      ],
      "metadata": {
        "id": "iKkemm1gvuws"
      },
      "execution_count": null,
      "outputs": []
    },
    {
      "cell_type": "code",
      "source": [
        "P3P3 = pd.DataFrame(\n",
        "              list(\n",
        "                  votes_df['Phase 3 Part 3: Adversarial Voting III']\\\n",
        "                 [votes_df['Phase 3 Part 3: Adversarial Voting III'][['choice.1', 'choice.2']].sum(axis=1) == 0].voter\n",
        "                  ),\n",
        "              columns= ['eoa']) \n",
        "\n",
        "P3P3_bonus = pd.DataFrame(\n",
        "              list(\n",
        "                  votes_df['Phase 3 Part 3: Adversarial Voting III']\\\n",
        "                  [(votes_df['Phase 3 Part 3: Adversarial Voting III'][['choice.1', 'choice.2']].sum(axis=1) == 0) &\\\n",
        "                  (votes_df['Phase 3 Part 3: Adversarial Voting III']['vp']==10000)].voter\n",
        "                  ),\n",
        "              columns= ['eoa']) \n",
        "\n",
        "P3P3['Phase 3 Part 3: Adversarial Voting III'] = 4000/P3P3.shape[0]\n",
        "P3P3_bonus['Phase 3 Part 3: Adversarial Voting III BONUS'] = 3000/P3P3_bonus.shape[0]\n",
        "\n",
        "rewards_df = rewards_df.merge(P3P3, how='outer', on='eoa')\n",
        "rewards_df = rewards_df.merge(P3P3_bonus, how='outer', on='eoa')"
      ],
      "metadata": {
        "id": "qV6fPeuIL6ET"
      },
      "execution_count": null,
      "outputs": []
    },
    {
      "cell_type": "markdown",
      "source": [
        "##Phase 3 Part 4: Disruptive Voting\n",
        "Prize: \n",
        "- 7000 HOPR Tokens \n",
        "- 4000 will be awarded if Either team wins. \n",
        "- An additional 3000 will be awarded to the team whose proposal wins (Team B with Options 4,5,6,8)\n",
        "- No wrong choices"
      ],
      "metadata": {
        "id": "SqFIcUQXSMCL"
      }
    },
    {
      "cell_type": "code",
      "source": [
        "#Options 4,5,6,8 win\n",
        "\n",
        "# Team B wants TWO of Options 4, 5 and 6 to place in the top, and Option 8 to NOT place in the top 3."
      ],
      "metadata": {
        "id": "ZYABaryxwWGc"
      },
      "execution_count": null,
      "outputs": []
    },
    {
      "cell_type": "code",
      "source": [
        "P3P4 = pd.DataFrame(\n",
        "              list(votes_df['Phase 3 Part 4: Disruptive Voting'].voter),\n",
        "              columns= ['eoa']) \n",
        "\n",
        "P3P4_bonus = pd.DataFrame(\n",
        "              list(\n",
        "                  votes_df['Phase 3 Part 4: Disruptive Voting']\\\n",
        "                 [votes_df['Phase 3 Part 4: Disruptive Voting']['vp']==10000].voter\n",
        "                  ),\n",
        "              columns= ['eoa']) \n",
        "\n",
        "P3P4['Phase 3 Part 4: Disruptive Voting'] = 4000/P3P4.shape[0]\n",
        "P3P4_bonus['Phase 3 Part 4: Disruptive Voting BONUS'] = 3000/P3P4_bonus.shape[0]\n",
        "\n",
        "rewards_df = rewards_df.merge(P3P4, how='outer', on='eoa')\n",
        "rewards_df = rewards_df.merge(P3P4_bonus, how='outer', on='eoa')"
      ],
      "metadata": {
        "id": "40qr6R4UL86a"
      },
      "execution_count": null,
      "outputs": []
    },
    {
      "cell_type": "markdown",
      "source": [
        "#Rewards"
      ],
      "metadata": {
        "id": "FdHnL3WTgKP5"
      }
    },
    {
      "cell_type": "markdown",
      "source": [
        "###NFT"
      ],
      "metadata": {
        "id": "9USIG5zTyVxN"
      }
    },
    {
      "cell_type": "code",
      "source": [
        "rewards_df[rewards_df['grade'].isna()]"
      ],
      "metadata": {
        "id": "6T8c191f8uZz"
      },
      "execution_count": null,
      "outputs": []
    },
    {
      "cell_type": "code",
      "source": [
        "HOPR_NFT = rewards_df[['eoa', 'grade']]\n",
        "HOPR_NFT[\"eoa\"] = HOPR_NFT[\"eoa\"].apply(lambda x: \">\"+x+\"<\")\n",
        "print(HOPR_NFT[HOPR_NFT.grade.isna()].shape)\n",
        "print(HOPR_NFT.shape)\n",
        "HOPR_NFT.dropna(subset=['grade'], inplace = True)\n",
        "print(HOPR_NFT.shape)"
      ],
      "metadata": {
        "id": "W67a1tNqTzeW",
        "colab": {
          "base_uri": "https://localhost:8080/"
        },
        "outputId": "22f4e417-952d-4c93-d2be-91955b61963a"
      },
      "execution_count": null,
      "outputs": [
        {
          "output_type": "stream",
          "name": "stdout",
          "text": [
            "(5, 2)\n",
            "(327, 2)\n",
            "(322, 2)\n"
          ]
        }
      ]
    },
    {
      "cell_type": "code",
      "source": [
        "HOPR_NFT['grade'].value_counts(dropna=False) "
      ],
      "metadata": {
        "colab": {
          "base_uri": "https://localhost:8080/"
        },
        "id": "8kMLa6Wp_sQ0",
        "outputId": "b80215ad-537d-4efb-f3b1-09cf021f1a2d"
      },
      "execution_count": null,
      "outputs": [
        {
          "output_type": "execute_result",
          "data": {
            "text/plain": [
              "diamond    214\n",
              "gold        65\n",
              "silver      43\n",
              "Name: grade, dtype: int64"
            ]
          },
          "metadata": {},
          "execution_count": 36
        }
      ]
    },
    {
      "cell_type": "code",
      "source": [
        "HOPR_NFT.to_csv('./HOPR_NFT.csv', index=False)"
      ],
      "metadata": {
        "id": "zktoiVRnxVWr"
      },
      "execution_count": null,
      "outputs": []
    },
    {
      "cell_type": "code",
      "source": [
        "! head HOPR_NFT.csv"
      ],
      "metadata": {
        "colab": {
          "base_uri": "https://localhost:8080/"
        },
        "id": "9bX1vgQCUIgQ",
        "outputId": "7e277db1-fba2-45e1-cf45-0a6280e25806"
      },
      "execution_count": null,
      "outputs": [
        {
          "output_type": "stream",
          "name": "stdout",
          "text": [
            "eoa,grade\n",
            ">0xa2AB20E4aA2Cfc44231161C005cBF6fD68BF56a9<,diamond\n",
            ">0x960cC811e5eF36760f5c679AF90e821B10385e04<,diamond\n",
            ">0xdAf08467BE187fDAD0DB1df64b8cbD20F60AB370<,diamond\n",
            ">0xb5cBB2f3B5d3A72a88aF6c3739579A18D5235755<,diamond\n",
            ">0x205c211A68E0b8C1a97D61b0B09099231b3C160D<,silver\n",
            ">0x6BcFB1F96A3d270F00dEAb39Fd50e78096576113<,silver\n",
            ">0x3f4d0a6654c8365B42DcAa8AA92d9034e2A6141f<,diamond\n",
            ">0xbE93d14C5dEFb8F41aF8FB092F58e3C71C712b85<,gold\n",
            ">0xBE8C93a8C18AF63aAB449994AFAc13E71240ccC4<,diamond\n"
          ]
        }
      ]
    },
    {
      "cell_type": "markdown",
      "source": [
        "###Tokens"
      ],
      "metadata": {
        "id": "wVmKvgTYzh4N"
      }
    },
    {
      "cell_type": "code",
      "source": [
        "rewards_df.columns"
      ],
      "metadata": {
        "id": "1vCdapkIxBAO"
      },
      "execution_count": null,
      "outputs": []
    },
    {
      "cell_type": "code",
      "source": [
        "rewards_cols = ['Phase 1 Part 1: Find your team', \n",
        "                'Phase 1 Part 2: Intro to QV',\n",
        "                'Phase 1 Part 3: Split Choice QV',\n",
        "                'Phase 2 Part 1: Simple Coordination',\n",
        "                'Phase 2 Part 2: Complex Coordination',\n",
        "                'Phase 2 Part 2: Disrupted Coordination 1',\n",
        "                'Phase 2 Part 2: Disrupted Coordination 2',\n",
        "                'Phase 3 Part 1: Adversarial Voting I',\n",
        "                'Phase 3 Part 2: Adversarial Voting II',\n",
        "                'Phase 3 Part 3: Adversarial Voting III',\n",
        "                'Phase 3 Part 3: Adversarial Voting III BONUS',\n",
        "                'Phase 3 Part 4: Disruptive Voting',\n",
        "                'Phase 3 Part 4: Disruptive Voting BONUS']"
      ],
      "metadata": {
        "id": "cZB5ZceIhXPz"
      },
      "execution_count": null,
      "outputs": []
    },
    {
      "cell_type": "code",
      "source": [
        "rewards_df"
      ],
      "metadata": {
        "id": "eloxeI6szwzg"
      },
      "execution_count": null,
      "outputs": []
    },
    {
      "cell_type": "code",
      "source": [
        "HOPR_tokens = rewards_df\n",
        "HOPR_tokens['rewards_sum'] = HOPR_tokens[rewards_cols].sum(axis=1)\n",
        "HOPR_tokens = HOPR_tokens[['eoa', 'rewards_sum']]\n",
        "HOPR_tokens.to_csv('./HOPR_tokens.csv', index=False)"
      ],
      "metadata": {
        "id": "VpHd-AzQU2TM"
      },
      "execution_count": null,
      "outputs": []
    },
    {
      "cell_type": "code",
      "source": [
        "HOPR_tokens['rewards_sum'].sum()"
      ],
      "metadata": {
        "colab": {
          "base_uri": "https://localhost:8080/"
        },
        "id": "iL4bY1nc0Bua",
        "outputId": "709cb38d-1749-48da-96e4-aed8ba0fa096"
      },
      "execution_count": null,
      "outputs": [
        {
          "output_type": "execute_result",
          "data": {
            "text/plain": [
              "34500.0"
            ]
          },
          "metadata": {},
          "execution_count": 54
        }
      ]
    },
    {
      "cell_type": "code",
      "source": [
        "! head HOPR_tokens.csv"
      ],
      "metadata": {
        "colab": {
          "base_uri": "https://localhost:8080/"
        },
        "id": "1WefkTo2hCCB",
        "outputId": "7769a9fb-7da1-4be0-8514-3c1a1c66ca22"
      },
      "execution_count": null,
      "outputs": [
        {
          "output_type": "stream",
          "name": "stdout",
          "text": [
            "eoa,rewards_sum\n",
            "0xa2AB20E4aA2Cfc44231161C005cBF6fD68BF56a9,63.13109143778331\n",
            "0x960cC811e5eF36760f5c679AF90e821B10385e04,106.61653000971766\n",
            "0xf7c6382Da0A3ee08aD4c201b01E33e122600Ab6f,82.82782088625194\n",
            "0xdAf08467BE187fDAD0DB1df64b8cbD20F60AB370,80.84061190767022\n",
            "0xb5cBB2f3B5d3A72a88aF6c3739579A18D5235755,47.06683440967086\n",
            "0x205c211A68E0b8C1a97D61b0B09099231b3C160D,116.79451276525594\n",
            "0x6BcFB1F96A3d270F00dEAb39Fd50e78096576113,35.78580108379298\n",
            "0x3f4d0a6654c8365B42DcAa8AA92d9034e2A6141f,272.86548573235757\n",
            "0xbE93d14C5dEFb8F41aF8FB092F58e3C71C712b85,48.46022760343085\n"
          ]
        }
      ]
    },
    {
      "cell_type": "markdown",
      "source": [
        "#Supplemental"
      ],
      "metadata": {
        "id": "k7sN4W7ZiXKr"
      }
    },
    {
      "cell_type": "markdown",
      "source": [
        "###GraphQL queries"
      ],
      "metadata": {
        "id": "gvTfFR4iie_q"
      }
    },
    {
      "cell_type": "code",
      "source": [
        "# query Votes {\n",
        "#   votes(first: 1000, skip: 0, where: {proposal: \"0x5ba405215e79898f8ec1c62112f03094933e64b81446b3066531ee31bc0b31d0\"}) {\n",
        "#     id\n",
        "#     proposal {\n",
        "#       id\n",
        "#     }\n",
        "#     voter\n",
        "#     created\n",
        "#     choice\n",
        "#     metadata\n",
        "#     vp\n",
        "#     vp_state\n",
        "#     vp_by_strategy\n",
        "#     space {\n",
        "#       id\n",
        "#     }\n",
        "#   }\n",
        "# }"
      ],
      "metadata": {
        "id": "sL0cHhzliQbW"
      },
      "execution_count": null,
      "outputs": []
    },
    {
      "cell_type": "code",
      "source": [
        "# query Proposals {\n",
        "#   proposals(where: {space_in: [\"qvgame.hopr.eth\", \"HOPR DAO Voting Games\"], state: \"closed\"}, orderBy: \"created\", orderDirection: asc) {\n",
        "#     id\n",
        "#     scores\n",
        "#     scores_by_strategy\n",
        "#     scores_state\n",
        "#     scores_total\n",
        "#     scores_updated\n",
        "#     votes\n",
        "#     title\n",
        "#     body\n",
        "#     choices\n",
        "#     start\n",
        "#     end\n",
        "#     snapshot\n",
        "#     state\n",
        "#     author\n",
        "#     space {\n",
        "#       id\n",
        "#       name\n",
        "#     }\n",
        "#   }\n",
        "# }"
      ],
      "metadata": {
        "id": "8R5p8WfGid14"
      },
      "execution_count": null,
      "outputs": []
    },
    {
      "cell_type": "markdown",
      "source": [
        "###Data exports - raw"
      ],
      "metadata": {
        "id": "HKlVbYyCijoy"
      }
    },
    {
      "cell_type": "code",
      "source": [
        "#create csv file of all data\n",
        "proposals_df.to_csv('./proposals_df.csv', index=False)\n",
        "\n",
        "for title in votes_df.keys():\n",
        "  votes_df[title].to_csv(f'./{title}.csv', index=False)"
      ],
      "metadata": {
        "id": "qiy-ktjpii4s"
      },
      "execution_count": null,
      "outputs": []
    },
    {
      "cell_type": "code",
      "source": [
        ""
      ],
      "metadata": {
        "id": "F3Gqfyb-iq1E"
      },
      "execution_count": null,
      "outputs": []
    }
  ]
}