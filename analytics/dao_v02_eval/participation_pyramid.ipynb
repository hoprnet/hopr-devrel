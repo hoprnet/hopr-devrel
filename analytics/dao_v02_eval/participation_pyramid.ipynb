{
 "cells": [
  {
   "cell_type": "code",
   "execution_count": null,
   "id": "f93c7605",
   "metadata": {},
   "outputs": [],
   "source": [
    "import pandas as pd\n",
    "import numpy as np\n",
    "import openpyxl"
   ]
  },
  {
   "cell_type": "code",
   "execution_count": null,
   "id": "98610d86",
   "metadata": {},
   "outputs": [],
   "source": [
    "import seaborn as sns; sns.set()\n",
    "import matplotlib.pyplot as plt\n",
    "%matplotlib inline\n",
    "import numpy as np; np.random.seed(0)"
   ]
  },
  {
   "cell_type": "code",
   "execution_count": null,
   "id": "81e80474",
   "metadata": {},
   "outputs": [],
   "source": [
    "from __future__ import print_function\n",
    "import matplotlib.ticker as ticker\n",
    "from colour import Color"
   ]
  },
  {
   "cell_type": "code",
   "execution_count": null,
   "id": "7b3b06ea",
   "metadata": {},
   "outputs": [],
   "source": [
    "#yellow\n",
    "color1 = '#%02x%02x%02x' % (255, 255, 160)\n",
    "#bright-blue\n",
    "color2 = '#%02x%02x%02x' % (0, 0, 180)\n",
    "#sky-blue\n",
    "color3 = '#%02x%02x%02x' % (180, 240, 255)\n",
    "#dark-blue\n",
    "color4 = '#%02x%02x%02x' % (0, 0, 80)\n",
    "#steel-blue\n",
    "color5 = '#%02x%02x%02x' % (60, 100, 165)"
   ]
  },
  {
   "cell_type": "code",
   "execution_count": null,
   "id": "002bff68",
   "metadata": {},
   "outputs": [],
   "source": [
    "#Ethereum, xDAi, and staking data from Dune"
   ]
  },
  {
   "cell_type": "code",
   "execution_count": null,
   "id": "e4b51a39",
   "metadata": {},
   "outputs": [],
   "source": [
    "df_e = pd.read_csv('p_ether.csv')\n",
    "df_xd = pd.read_csv('p_xdai.csv')\n",
    "df_st = pd.read_csv('p_staking.csv')"
   ]
  },
  {
   "cell_type": "code",
   "execution_count": null,
   "id": "9d295f9f",
   "metadata": {},
   "outputs": [],
   "source": [
    "#xDai, selecting the total balance, adding tag"
   ]
  },
  {
   "cell_type": "code",
   "execution_count": null,
   "id": "a6685dd0",
   "metadata": {},
   "outputs": [],
   "source": [
    "df_xd"
   ]
  },
  {
   "cell_type": "code",
   "execution_count": null,
   "id": "5a4d93b9",
   "metadata": {},
   "outputs": [],
   "source": [
    "df_xd = df_xd[[\"account\", \"total_balance\"]]"
   ]
  },
  {
   "cell_type": "code",
   "execution_count": null,
   "id": "b1c32f38",
   "metadata": {},
   "outputs": [],
   "source": [
    "df_xd['chain'] = \"xdai\""
   ]
  },
  {
   "cell_type": "code",
   "execution_count": null,
   "id": "8a4f3555",
   "metadata": {},
   "outputs": [],
   "source": [
    "#Staking, selecting the total balance, adding tag"
   ]
  },
  {
   "cell_type": "code",
   "execution_count": null,
   "id": "94435665",
   "metadata": {},
   "outputs": [],
   "source": [
    "df_st = df_st[[\"account\", \"total_balance\"]]"
   ]
  },
  {
   "cell_type": "code",
   "execution_count": null,
   "id": "645471ed",
   "metadata": {},
   "outputs": [],
   "source": [
    "df_st['chain'] = \"xdai\""
   ]
  },
  {
   "cell_type": "code",
   "execution_count": null,
   "id": "a1e62ab7",
   "metadata": {},
   "outputs": [],
   "source": [
    "#Ethereum adding tag"
   ]
  },
  {
   "cell_type": "code",
   "execution_count": null,
   "id": "358b8d38",
   "metadata": {},
   "outputs": [],
   "source": [
    "df_e['chain'] = \"ethereum\""
   ]
  },
  {
   "cell_type": "code",
   "execution_count": null,
   "id": "11427969",
   "metadata": {},
   "outputs": [],
   "source": [
    "df_e"
   ]
  },
  {
   "cell_type": "code",
   "execution_count": null,
   "id": "ce83282e",
   "metadata": {},
   "outputs": [],
   "source": [
    "df_e = df_e.rename(columns={'balance': 'total_balance'})"
   ]
  },
  {
   "cell_type": "code",
   "execution_count": null,
   "id": "3d0d13f4",
   "metadata": {},
   "outputs": [],
   "source": [
    "#merging the 3 dataset as \"df_par\""
   ]
  },
  {
   "cell_type": "code",
   "execution_count": null,
   "id": "911ccb8f",
   "metadata": {},
   "outputs": [],
   "source": [
    "df_par = (pd.concat([df_e, df_st, df_xd])).reset_index(drop=True)"
   ]
  },
  {
   "cell_type": "code",
   "execution_count": null,
   "id": "0a2c6e46",
   "metadata": {
    "scrolled": false
   },
   "outputs": [],
   "source": [
    "df_par"
   ]
  },
  {
   "cell_type": "code",
   "execution_count": null,
   "id": "70568997",
   "metadata": {},
   "outputs": [],
   "source": [
    "df_par['account'] = df_par['account'].str.lower()"
   ]
  },
  {
   "cell_type": "code",
   "execution_count": null,
   "id": "7e622aaf",
   "metadata": {},
   "outputs": [],
   "source": [
    "#aggreageting the dataframe by account - to avoid duplications"
   ]
  },
  {
   "cell_type": "code",
   "execution_count": null,
   "id": "a6806077",
   "metadata": {
    "scrolled": true
   },
   "outputs": [],
   "source": [
    "df_p_u = (df_par.groupby(['account']).agg({'account': ['count'],'chain': ['first']} )).reset_index(drop=False)\n",
    "df_p_u"
   ]
  },
  {
   "cell_type": "code",
   "execution_count": null,
   "id": "d396dd6e",
   "metadata": {},
   "outputs": [],
   "source": [
    "df_p_u.columns = ['account','count','chain']"
   ]
  },
  {
   "cell_type": "code",
   "execution_count": null,
   "id": "e80b6d61",
   "metadata": {},
   "outputs": [],
   "source": [
    "#creating dummy tresholds for the balances (1 and 1000 HOPR)"
   ]
  },
  {
   "cell_type": "code",
   "execution_count": null,
   "id": "e7c7962a",
   "metadata": {},
   "outputs": [],
   "source": [
    "df_par[\"limit\"] = df_par['total_balance'].apply(lambda x: 1 if x >= 1 else 0)"
   ]
  },
  {
   "cell_type": "code",
   "execution_count": null,
   "id": "967812af",
   "metadata": {},
   "outputs": [],
   "source": [
    "df_par[\"limit_2\"] = df_par['total_balance'].apply(lambda x: 1 if x >= 1000 else 0)"
   ]
  },
  {
   "cell_type": "code",
   "execution_count": null,
   "id": "83038dbd",
   "metadata": {},
   "outputs": [],
   "source": [
    "#dropping the accounts under the tresholds and creating new daraframes without them"
   ]
  },
  {
   "cell_type": "code",
   "execution_count": null,
   "id": "38d6c32d",
   "metadata": {},
   "outputs": [],
   "source": [
    "out = df_par[df_par['limit'] == 0].index"
   ]
  },
  {
   "cell_type": "code",
   "execution_count": null,
   "id": "676fd645",
   "metadata": {},
   "outputs": [],
   "source": [
    "out_2 = df_par[df_par['limit_2'] == 0].index"
   ]
  },
  {
   "cell_type": "code",
   "execution_count": null,
   "id": "783a6c8c",
   "metadata": {},
   "outputs": [],
   "source": [
    "df_lim = (df_par.drop(out)).reset_index(drop=True)\n",
    "df_lim.head()"
   ]
  },
  {
   "cell_type": "code",
   "execution_count": null,
   "id": "87b02bcf",
   "metadata": {},
   "outputs": [],
   "source": [
    "df_lim2 = (df_par.drop(out_2)).reset_index(drop=True)"
   ]
  },
  {
   "cell_type": "code",
   "execution_count": null,
   "id": "1ab7825a",
   "metadata": {},
   "outputs": [],
   "source": [
    "#aggreageting the dataframes by account - to avoid duplications"
   ]
  },
  {
   "cell_type": "code",
   "execution_count": null,
   "id": "01b99aa9",
   "metadata": {},
   "outputs": [],
   "source": [
    "df_lim_p = (df_lim.groupby(['account']).agg({'account': ['count'],'chain': ['first']} )).reset_index(drop=False)"
   ]
  },
  {
   "cell_type": "code",
   "execution_count": null,
   "id": "672e4da3",
   "metadata": {},
   "outputs": [],
   "source": [
    "df_lim_p2 = (df_lim2.groupby(['account']).agg({'account': ['count'],'chain': ['first']} )).reset_index(drop=False)"
   ]
  },
  {
   "cell_type": "code",
   "execution_count": null,
   "id": "5422d9df",
   "metadata": {},
   "outputs": [],
   "source": [
    "df_lim_p.columns = ['account', 'count', 'chain']"
   ]
  },
  {
   "cell_type": "code",
   "execution_count": null,
   "id": "d91bb30d",
   "metadata": {},
   "outputs": [],
   "source": [
    "df_lim_p2.columns = ['account', 'count', 'chain']"
   ]
  },
  {
   "cell_type": "code",
   "execution_count": null,
   "id": "199854f0",
   "metadata": {},
   "outputs": [],
   "source": [
    "#number of account by each cathegory"
   ]
  },
  {
   "cell_type": "code",
   "execution_count": null,
   "id": "6bbe5fdc",
   "metadata": {},
   "outputs": [],
   "source": [
    "token_account = len(df_p_u['account'])\n",
    "token_account"
   ]
  },
  {
   "cell_type": "code",
   "execution_count": null,
   "id": "89d99aa7",
   "metadata": {},
   "outputs": [],
   "source": [
    "token_account_above1 = len(df_lim_p['account'])\n",
    "token_account_above1"
   ]
  },
  {
   "cell_type": "code",
   "execution_count": null,
   "id": "53746f36",
   "metadata": {},
   "outputs": [],
   "source": [
    "token_account_above1000 = len(df_lim_p2['account'])\n",
    "token_account_above1000"
   ]
  },
  {
   "cell_type": "code",
   "execution_count": null,
   "id": "e85ea5f5",
   "metadata": {},
   "outputs": [],
   "source": [
    "#forum users"
   ]
  },
  {
   "cell_type": "code",
   "execution_count": null,
   "id": "3e139914",
   "metadata": {},
   "outputs": [],
   "source": [
    "df_u = pd.read_csv('users.csv')"
   ]
  },
  {
   "cell_type": "code",
   "execution_count": null,
   "id": "49c1fc4f",
   "metadata": {
    "scrolled": true
   },
   "outputs": [],
   "source": [
    "forum_participations = len(df_u[\"id\"])\n",
    "forum_participations"
   ]
  },
  {
   "cell_type": "code",
   "execution_count": null,
   "id": "28c5c21c",
   "metadata": {},
   "outputs": [],
   "source": [
    "#DAOv02 participants"
   ]
  },
  {
   "cell_type": "code",
   "execution_count": null,
   "id": "11331a95",
   "metadata": {},
   "outputs": [],
   "source": [
    "vote_report_d = pd.read_csv('snapshot-report-d.csv')\n",
    "vote_report_h = pd.read_csv('snapshot-report-h.csv')"
   ]
  },
  {
   "cell_type": "code",
   "execution_count": null,
   "id": "5b145dd6",
   "metadata": {},
   "outputs": [],
   "source": [
    "vote_hopr = pd.DataFrame(vote_report_h['address'])\n",
    "vote_dai = pd.DataFrame(vote_report_d['address'])"
   ]
  },
  {
   "cell_type": "code",
   "execution_count": null,
   "id": "68a79790",
   "metadata": {},
   "outputs": [],
   "source": [
    "#merging the DAI and HOPR addresses"
   ]
  },
  {
   "cell_type": "code",
   "execution_count": null,
   "id": "d1ca7128",
   "metadata": {},
   "outputs": [],
   "source": [
    "vote = (pd.concat([vote_hopr, vote_dai])).reset_index(drop=True)"
   ]
  },
  {
   "cell_type": "code",
   "execution_count": null,
   "id": "2801ab56",
   "metadata": {},
   "outputs": [],
   "source": [
    "vote['address'] = vote['address'].str.lower()"
   ]
  },
  {
   "cell_type": "code",
   "execution_count": null,
   "id": "3292466b",
   "metadata": {},
   "outputs": [],
   "source": [
    "#creating aggregation to avoid duplications"
   ]
  },
  {
   "cell_type": "code",
   "execution_count": null,
   "id": "03af3e73",
   "metadata": {
    "scrolled": false
   },
   "outputs": [],
   "source": [
    "df_vote = (vote.groupby(['address']).agg({'address': ['count']} )).reset_index(drop=False)\n",
    "df_vote"
   ]
  },
  {
   "cell_type": "code",
   "execution_count": null,
   "id": "63d761e1",
   "metadata": {},
   "outputs": [],
   "source": [
    "df_vote.columns=['account', 'count']"
   ]
  },
  {
   "cell_type": "code",
   "execution_count": null,
   "id": "ad68d52f",
   "metadata": {},
   "outputs": [],
   "source": [
    "voters = len(df_vote['account'])\n",
    "voters"
   ]
  },
  {
   "cell_type": "code",
   "execution_count": null,
   "id": "21d4e62a",
   "metadata": {
    "scrolled": true
   },
   "outputs": [],
   "source": [
    "forum_participations"
   ]
  },
  {
   "cell_type": "code",
   "execution_count": null,
   "id": "55720ec5",
   "metadata": {},
   "outputs": [],
   "source": [
    "token_account"
   ]
  },
  {
   "cell_type": "code",
   "execution_count": null,
   "id": "f0011cbd",
   "metadata": {},
   "outputs": [],
   "source": [
    "token_account_above1"
   ]
  },
  {
   "cell_type": "code",
   "execution_count": null,
   "id": "faf10488",
   "metadata": {},
   "outputs": [],
   "source": [
    "token_account_above1000"
   ]
  },
  {
   "cell_type": "code",
   "execution_count": null,
   "id": "b5513dd8",
   "metadata": {},
   "outputs": [],
   "source": [
    "import plotly.express as px\n",
    "from plotly import graph_objects as go"
   ]
  },
  {
   "cell_type": "code",
   "execution_count": null,
   "id": "026b3122",
   "metadata": {},
   "outputs": [],
   "source": [
    "#number of DAOv02 participants based on the Forum query=228"
   ]
  },
  {
   "cell_type": "code",
   "execution_count": null,
   "id": "773d2521",
   "metadata": {},
   "outputs": [],
   "source": [
    "fig = go.Figure(go.Funnel(\n",
    "    y = [\"x/wx/HOPR, staking accounts,\", \"x/wx/HOPR, staking accounts >= 1\", \"x/wx/HOPR, staking accounts >= 1000\", \"Forum users\", \"Voters\", \"DAO forum participants\"],\n",
    "    x = [10364, 8043, 3755, 1390, 307, 228],\n",
    "    textposition = \"auto\",\n",
    "    textinfo = \"value\",\n",
    "    opacity = 1, marker = {\"color\": [color3, color1, color2, color4, color1, color5],\n",
    "    \"line\": {\"width\": [4, 4, 4, 4, 4, 4], \"color\": [color3, color1, color2, color4, color1, color5]}},\n",
    "    connector = {\"line\": {\"color\": color1, \"dash\": \"dot\", \"width\": 3}})\n",
    "    )\n",
    "\n",
    "fig.show()"
   ]
  },
  {
   "cell_type": "code",
   "execution_count": null,
   "id": "396c9205",
   "metadata": {
    "scrolled": true
   },
   "outputs": [],
   "source": [
    "fig = go.Figure(go.Funnel(\n",
    "    y = [\"Forum users\", \"Voters\", \"DAOv02 forum participants\", \"DAOv02 forum participants with NFTs\"],\n",
    "    x = [1390, 307, 228, 187],\n",
    "    textposition = \"auto\",\n",
    "    textinfo = \"value\",\n",
    "    opacity = 1, marker = {\"color\": [color1, color2, color3, color4],\n",
    "    \"line\": {\"width\": [4, 4, 4, 4], \"color\": [color1, color2, color3, color4]}},\n",
    "    connector = {\"line\": {\"color\": color1, \"dash\": \"dot\", \"width\": 3}})\n",
    "    )\n",
    "\n",
    "fig.show()"
   ]
  },
  {
   "cell_type": "code",
   "execution_count": null,
   "id": "4148580b",
   "metadata": {},
   "outputs": [],
   "source": [
    "df_d = pd.read_csv('snapshot-report-d.csv')\n",
    "df_h = pd.read_csv('snapshot-report-h.csv')"
   ]
  },
  {
   "cell_type": "code",
   "execution_count": null,
   "id": "0a238ec6",
   "metadata": {
    "scrolled": false
   },
   "outputs": [],
   "source": [
    "df_p_u['chain'].value_counts()"
   ]
  },
  {
   "cell_type": "code",
   "execution_count": null,
   "id": "292cf301",
   "metadata": {
    "scrolled": true
   },
   "outputs": [],
   "source": [
    "df_lim_p['chain'].value_counts()"
   ]
  },
  {
   "cell_type": "code",
   "execution_count": null,
   "id": "3223a6e8",
   "metadata": {
    "scrolled": true
   },
   "outputs": [],
   "source": [
    "df_lim_p2['chain'].value_counts()"
   ]
  },
  {
   "cell_type": "code",
   "execution_count": null,
   "id": "2086ac4b",
   "metadata": {},
   "outputs": [],
   "source": [
    "len(df_d[\"address\"])"
   ]
  },
  {
   "cell_type": "code",
   "execution_count": null,
   "id": "215e47ce",
   "metadata": {},
   "outputs": [],
   "source": [
    "len(df_h[\"address\"])"
   ]
  },
  {
   "cell_type": "code",
   "execution_count": null,
   "id": "3c74b95b",
   "metadata": {},
   "outputs": [],
   "source": [
    "fig = go.Figure()\n",
    "\n",
    "fig.add_trace(go.Funnel(\n",
    "    name = 'Ethereum',\n",
    "    y = [\"x/wx/HOPR, staking accounts\", \"x/wx/HOPR, staking accounts >= 1\", \"x/wx/HOPR, staking accounts >= 1000\", \"Voters\"],\n",
    "    x = [6197, 5433, 2971, 296],\n",
    "    textposition = \"auto\",\n",
    "    textinfo = \"value\",\n",
    "    marker = {\"color\": [color1, color1, color1, color1]}))\n",
    "\n",
    "fig.add_trace(go.Funnel(\n",
    "    name = 'xDai',\n",
    "    y = [\"x/wx/HOPR, staking accounts\", \"x/wx/HOPR, staking accounts >= 1\", \"x/wx/HOPR, staking accounts >= 1000\", \"Voters\"],\n",
    "    x = [4167, 2610, 784, 273],\n",
    "    textposition = \"inside\",\n",
    "    textinfo = \"value\",\n",
    "    marker = {\"color\": [color2, color2, color2, color2]}))\n",
    "\n",
    "fig.show()"
   ]
  },
  {
   "cell_type": "code",
   "execution_count": null,
   "id": "074fa6a0",
   "metadata": {},
   "outputs": [],
   "source": [
    "#vote manipulation check"
   ]
  },
  {
   "cell_type": "code",
   "execution_count": null,
   "id": "dd96418e",
   "metadata": {},
   "outputs": [],
   "source": [
    "df_p_u['check'] = 2"
   ]
  },
  {
   "cell_type": "code",
   "execution_count": null,
   "id": "d9d226ed",
   "metadata": {},
   "outputs": [],
   "source": [
    "#df_before dataframe is identical to df_p_u but representing the data from 12/10/2021 14:00:00"
   ]
  },
  {
   "cell_type": "code",
   "execution_count": null,
   "id": "7a8f8fda",
   "metadata": {
    "scrolled": false
   },
   "outputs": [],
   "source": [
    "df_before = pd.read_csv('before.csv')\n",
    "df_before"
   ]
  },
  {
   "cell_type": "code",
   "execution_count": null,
   "id": "6f1c8a94",
   "metadata": {
    "scrolled": false
   },
   "outputs": [],
   "source": [
    "df_me = pd.merge(df_p_u, df_before, how=\"outer\", on=[\"account\"])\n",
    "df_me.head()"
   ]
  },
  {
   "cell_type": "code",
   "execution_count": null,
   "id": "2ae908bf",
   "metadata": {},
   "outputs": [],
   "source": [
    "df_me['check_y'] = df_me['check_y'].fillna(0)"
   ]
  },
  {
   "cell_type": "code",
   "execution_count": null,
   "id": "7300bf12",
   "metadata": {},
   "outputs": [],
   "source": [
    "df_me['check_x'] = df_me['check_x'].fillna(0)"
   ]
  },
  {
   "cell_type": "code",
   "execution_count": null,
   "id": "d7e24ade",
   "metadata": {},
   "outputs": [],
   "source": [
    "df_me['mix'] = df_me['check_x'] + df_me['check_y']"
   ]
  },
  {
   "cell_type": "code",
   "execution_count": null,
   "id": "4cba063f",
   "metadata": {
    "scrolled": true
   },
   "outputs": [],
   "source": [
    "df_me['mix'].value_counts()"
   ]
  },
  {
   "cell_type": "code",
   "execution_count": null,
   "id": "206ebc10",
   "metadata": {},
   "outputs": [],
   "source": [
    "new = df_me[df_me['mix'] == 2]"
   ]
  },
  {
   "cell_type": "code",
   "execution_count": null,
   "id": "691cc330",
   "metadata": {},
   "outputs": [],
   "source": [
    "df_ch = pd.merge(df_vote, new, how=\"inner\", on=[\"account\"])\n",
    "df_ch"
   ]
  },
  {
   "cell_type": "code",
   "execution_count": null,
   "id": "001f216f",
   "metadata": {},
   "outputs": [],
   "source": []
  }
 ],
 "metadata": {
  "kernelspec": {
   "display_name": "Python 3 (ipykernel)",
   "language": "python",
   "name": "python3"
  },
  "language_info": {
   "codemirror_mode": {
    "name": "ipython",
    "version": 3
   },
   "file_extension": ".py",
   "mimetype": "text/x-python",
   "name": "python",
   "nbconvert_exporter": "python",
   "pygments_lexer": "ipython3",
   "version": "3.7.1"
  }
 },
 "nbformat": 4,
 "nbformat_minor": 5
}
