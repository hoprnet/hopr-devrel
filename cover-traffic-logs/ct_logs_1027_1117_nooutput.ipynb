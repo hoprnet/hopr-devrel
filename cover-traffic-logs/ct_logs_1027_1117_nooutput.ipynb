{
 "cells": [
  {
   "cell_type": "code",
   "execution_count": null,
   "id": "bf1b19a0",
   "metadata": {},
   "outputs": [],
   "source": [
    "pip install --upgrade google-cloud-logging"
   ]
  },
  {
   "cell_type": "code",
   "execution_count": null,
   "id": "dd3fbcaa",
   "metadata": {},
   "outputs": [],
   "source": [
    "import sys\n",
    "!{sys.executable} -m pip install pandas matplotlib colour numpy"
   ]
  },
  {
   "cell_type": "code",
   "execution_count": null,
   "id": "7f7ffa18",
   "metadata": {},
   "outputs": [],
   "source": [
    "from google.cloud import logging"
   ]
  },
  {
   "cell_type": "code",
   "execution_count": null,
   "id": "b6bbb5b6",
   "metadata": {},
   "outputs": [],
   "source": [
    "from google.cloud import storage"
   ]
  },
  {
   "cell_type": "code",
   "execution_count": null,
   "id": "d19ce5bf",
   "metadata": {},
   "outputs": [],
   "source": [
    "import google.cloud.logging"
   ]
  },
  {
   "cell_type": "code",
   "execution_count": null,
   "id": "8837a8d0",
   "metadata": {},
   "outputs": [],
   "source": [
    "from datetime import datetime\n",
    "from datetime import timedelta\n",
    "from datetime import timezone"
   ]
  },
  {
   "cell_type": "code",
   "execution_count": null,
   "id": "f6c317b2",
   "metadata": {},
   "outputs": [],
   "source": [
    "from __future__ import print_function\n",
    "import matplotlib.ticker as ticker\n",
    "from colour import Color"
   ]
  },
  {
   "cell_type": "code",
   "execution_count": null,
   "id": "6c6ea500",
   "metadata": {},
   "outputs": [],
   "source": [
    "color1 = '#%02x%02x%02x' % (25, 114, 120)\n",
    "color2 = '#%02x%02x%02x' % (237, 221, 212)\n",
    "color3 = '#%02x%02x%02x' % (196, 69, 54)"
   ]
  },
  {
   "cell_type": "code",
   "execution_count": null,
   "id": "29509be3",
   "metadata": {},
   "outputs": [],
   "source": [
    "import json\n",
    "import requests"
   ]
  },
  {
   "cell_type": "code",
   "execution_count": null,
   "id": "0b05988d",
   "metadata": {},
   "outputs": [],
   "source": [
    "import pandas as pd\n",
    "import time\n",
    "from datetime import datetime\n",
    "from os import path\n",
    "import requests\n",
    "import seaborn as sns; sns.set()\n",
    "import matplotlib.pyplot as plt\n",
    "%matplotlib inline\n",
    "import numpy as np; np.random.seed(0)\n",
    "from datetime import date\n",
    "import scipy.stats"
   ]
  },
  {
   "cell_type": "code",
   "execution_count": null,
   "id": "1937d46a",
   "metadata": {},
   "outputs": [],
   "source": [
    "client = google.cloud.logging.Client()"
   ]
  },
  {
   "cell_type": "code",
   "execution_count": null,
   "id": "f9777251",
   "metadata": {},
   "outputs": [],
   "source": [
    "logging_client = logging.Client()"
   ]
  },
  {
   "cell_type": "code",
   "execution_count": null,
   "id": "62a34c0a",
   "metadata": {
    "scrolled": true
   },
   "outputs": [],
   "source": [
    "#for entry in client.list_entries():  # API call(s)\n",
    "    #print(entry)"
   ]
  },
  {
   "cell_type": "markdown",
   "id": "ad5f1c9b",
   "metadata": {},
   "source": [
    "documentation: \n",
    "https://cloud.google.com/logging/docs/view/advanced-queries\n",
    "https://gcloud.readthedocs.io/en/latest/logging-client.html\n",
    "https://gcloud.readthedocs.io/en/latest/_modules/google/cloud/logging/client.html#Client.list_entries\n",
    "by default only 24 hours "
   ]
  },
  {
   "cell_type": "code",
   "execution_count": null,
   "id": "d30c1b5e",
   "metadata": {},
   "outputs": [],
   "source": [
    "##creating filter to the log entries \"filter_str\" from 07/10 until now instance:7872204418567022049"
   ]
  },
  {
   "cell_type": "code",
   "execution_count": null,
   "id": "341fa712",
   "metadata": {},
   "outputs": [],
   "source": [
    "filter_str1 = 'resource.type=\"gce_instance\" AND resource.labels.instance_id=\"7872204418567022049\" AND timestamp >= \"2021-10-07T00:00:00.000z\" AND jsonPayload.message:\"strategy tick: \"'"
   ]
  },
  {
   "cell_type": "code",
   "execution_count": null,
   "id": "58540297",
   "metadata": {},
   "outputs": [],
   "source": [
    "## instance:821228038003389665 "
   ]
  },
  {
   "cell_type": "code",
   "execution_count": null,
   "id": "d2c03eb1",
   "metadata": {},
   "outputs": [],
   "source": [
    "filter_str2 = 'resource.type=\"gce_instance\" AND resource.labels.instance_id=\"8212280380033896655\" AND timestamp >= \"2021-09-01T00:00:00.000z\" timestamp < \"2021-09-30T00:00:00.000z\" AND jsonPayload.message:\"strategy tick: \"'"
   ]
  },
  {
   "cell_type": "code",
   "execution_count": null,
   "id": "1d0e23ae",
   "metadata": {},
   "outputs": [],
   "source": [
    "zs = []\n",
    "for entry in client.list_entries(filter_=filter_str7):\n",
    "    r = (entry.payload, entry.received_timestamp)\n",
    "    zs.append(r)\n",
    "    print(zs)"
   ]
  },
  {
   "cell_type": "code",
   "execution_count": null,
   "id": "b247d7b3",
   "metadata": {},
   "outputs": [],
   "source": [
    "raw_zs = pd.DataFrame(zs, columns= [\"mes\",\"g_time\"])\n",
    "raw_zs"
   ]
  },
  {
   "cell_type": "code",
   "execution_count": null,
   "id": "af34a719",
   "metadata": {},
   "outputs": [],
   "source": [
    "filter_str3 = 'resource.type=\"gce_instance\" AND resource.labels.instance_id=\"8212280380033896655\" AND timestamp >= \"2021-10-27T00:00:00.000z\" timestamp < \"2021-11-01T00:00:00.000z\" AND jsonPayload.message:\"strategy tick: \"'"
   ]
  },
  {
   "cell_type": "code",
   "execution_count": null,
   "id": "60532cd4",
   "metadata": {},
   "outputs": [],
   "source": [
    "filter_str4 = 'resource.type=\"gce_instance\" AND resource.labels.instance_id=\"8212280380033896655\" AND timestamp >= \"2021-11-01T00:00:00.000z\" timestamp < \"2021-11-06T00:00:00.000z\" AND jsonPayload.message:\"strategy tick: \"'"
   ]
  },
  {
   "cell_type": "code",
   "execution_count": null,
   "id": "4bd76394",
   "metadata": {},
   "outputs": [],
   "source": [
    "filter_str5 = 'resource.type=\"gce_instance\" AND resource.labels.instance_id=\"8212280380033896655\" AND timestamp >= \"2021-11-06T00:00:00.000z\" timestamp < \"2021-11-12T00:00:00.000z\" AND jsonPayload.message:\"strategy tick: \"'"
   ]
  },
  {
   "cell_type": "code",
   "execution_count": null,
   "id": "b5300020",
   "metadata": {},
   "outputs": [],
   "source": [
    "filter_str6 = 'resource.type=\"gce_instance\" AND resource.labels.instance_id=\"8212280380033896655\" AND timestamp >= \"2021-11-12T00:00:00.000z\" timestamp < \"2021-11-17T00:00:00.000z\" AND jsonPayload.message:\"strategy tick: \"'"
   ]
  },
  {
   "cell_type": "markdown",
   "id": "9d5080a0",
   "metadata": {},
   "source": [
    "for entry in client.list_entries(filter_=filter_str3): # API call(s)\n",
    "    print(entry.payload, entry.received_timestamp)"
   ]
  },
  {
   "cell_type": "code",
   "execution_count": null,
   "id": "0ab8b799",
   "metadata": {},
   "outputs": [],
   "source": [
    "##appending the items from the google generator"
   ]
  },
  {
   "cell_type": "code",
   "execution_count": null,
   "id": "4dd540ed",
   "metadata": {},
   "outputs": [],
   "source": [
    "y = []\n",
    "for entry in client.list_entries(filter_=filter_str3):\n",
    "    r = (entry.payload, entry.received_timestamp)\n",
    "    y.append(r)\n",
    "    print(y)"
   ]
  },
  {
   "cell_type": "code",
   "execution_count": null,
   "id": "42801b89",
   "metadata": {},
   "outputs": [],
   "source": [
    "x = []\n",
    "for entry in client.list_entries(filter_=filter_str4):\n",
    "    r = (entry.payload, entry.received_timestamp)\n",
    "    x.append(r)\n",
    "    print(x)"
   ]
  },
  {
   "cell_type": "code",
   "execution_count": null,
   "id": "f06309c5",
   "metadata": {},
   "outputs": [],
   "source": [
    "z = []\n",
    "for entry in client.list_entries(filter_=filter_str5):\n",
    "    r = (entry.payload, entry.received_timestamp)\n",
    "    z.append(r)\n",
    "    print(z)"
   ]
  },
  {
   "cell_type": "code",
   "execution_count": null,
   "id": "b3d30224",
   "metadata": {},
   "outputs": [],
   "source": [
    "w = []\n",
    "for entry in client.list_entries(filter_=filter_str6):\n",
    "    r = (entry.payload, entry.received_timestamp)\n",
    "    w.append(r)\n",
    "    print(w)"
   ]
  },
  {
   "cell_type": "code",
   "execution_count": null,
   "id": "63667298",
   "metadata": {
    "scrolled": false
   },
   "outputs": [],
   "source": [
    "raw_y = pd.DataFrame(y, columns= [\"mes\",\"g_time\"])\n",
    "raw_y"
   ]
  },
  {
   "cell_type": "code",
   "execution_count": null,
   "id": "afd1f6ce",
   "metadata": {
    "scrolled": true
   },
   "outputs": [],
   "source": [
    "raw_x = pd.DataFrame(x, columns= [\"mes\",\"g_time\"])\n",
    "raw_x"
   ]
  },
  {
   "cell_type": "code",
   "execution_count": null,
   "id": "37ef946e",
   "metadata": {
    "scrolled": true
   },
   "outputs": [],
   "source": [
    "raw_z = pd.DataFrame(z, columns= [\"mes\",\"g_time\"])\n",
    "raw_z"
   ]
  },
  {
   "cell_type": "code",
   "execution_count": null,
   "id": "2a7143b7",
   "metadata": {
    "scrolled": true
   },
   "outputs": [],
   "source": [
    "raw_w = pd.DataFrame(w, columns= [\"mes\",\"g_time\"])\n",
    "raw_w"
   ]
  },
  {
   "cell_type": "code",
   "execution_count": null,
   "id": "4cb66008",
   "metadata": {},
   "outputs": [],
   "source": [
    "raw = (pd.concat([raw_y, raw_x, raw_z, raw_w])).reset_index(drop=True)\n",
    "raw"
   ]
  },
  {
   "cell_type": "code",
   "execution_count": null,
   "id": "5ae40587",
   "metadata": {
    "scrolled": false
   },
   "outputs": [],
   "source": [
    "raw['message'] = raw['mes'].apply(lambda x: x['message'])\n",
    "raw"
   ]
  },
  {
   "cell_type": "code",
   "execution_count": null,
   "id": "270ec683",
   "metadata": {
    "scrolled": false
   },
   "outputs": [],
   "source": [
    "df_r = pd.DataFrame(raw['message'].str.split().tolist())\n",
    "df_r"
   ]
  },
  {
   "cell_type": "code",
   "execution_count": null,
   "id": "a214091c",
   "metadata": {},
   "outputs": [],
   "source": [
    "##from raw data to dataframe"
   ]
  },
  {
   "cell_type": "code",
   "execution_count": null,
   "id": "616deb06",
   "metadata": {},
   "outputs": [],
   "source": [
    "def data_frame(out_df):\n",
    "    if len(out_df.columns) < 9:\n",
    "        df_0 = out_df[[0,4,5,6]]\n",
    "        df_0.columns = ['r_tick_time', 'r_strategy_tick', 'r_balance', 'r_open']\n",
    "        return df_0\n",
    "    else: \n",
    "        df_0 = out_df[[0,4,5,6,8]]\n",
    "        df_0.columns = ['r_tick_time', 'r_strategy_tick', 'r_balance', 'r_open', 'close']\n",
    "        return df_0"
   ]
  },
  {
   "cell_type": "code",
   "execution_count": null,
   "id": "57e58c88",
   "metadata": {
    "scrolled": true
   },
   "outputs": [],
   "source": [
    "df = data_frame(df_r)\n",
    "df"
   ]
  },
  {
   "cell_type": "code",
   "execution_count": null,
   "id": "27b3a390",
   "metadata": {
    "scrolled": false
   },
   "outputs": [],
   "source": [
    "df = pd.concat([raw[\"g_time\"], df], axis=1)\n",
    "df"
   ]
  },
  {
   "cell_type": "code",
   "execution_count": null,
   "id": "d881700a",
   "metadata": {},
   "outputs": [],
   "source": [
    "##data cleaning"
   ]
  },
  {
   "cell_type": "code",
   "execution_count": null,
   "id": "db0ea865",
   "metadata": {},
   "outputs": [],
   "source": [
    "df['balance'] = df['r_balance'].apply(lambda x: x.replace(\"balance:\", ''))\n",
    "df['tick_timestamp'] = df['r_tick_time'].apply(lambda x: x[:-1:])\n",
    "df['open'] = df['r_open'].apply(lambda x: x.replace(\"open:\", ''))"
   ]
  },
  {
   "cell_type": "code",
   "execution_count": null,
   "id": "8bc31b36",
   "metadata": {
    "scrolled": true
   },
   "outputs": [],
   "source": [
    "df"
   ]
  },
  {
   "cell_type": "code",
   "execution_count": null,
   "id": "ad2f0b60",
   "metadata": {},
   "outputs": [],
   "source": [
    "df.to_csv('logs_8212280380033896655_1027_1117.csv')"
   ]
  },
  {
   "cell_type": "code",
   "execution_count": null,
   "id": "39d94fd4",
   "metadata": {},
   "outputs": [],
   "source": [
    "df['open'].value_counts()"
   ]
  },
  {
   "cell_type": "code",
   "execution_count": null,
   "id": "a1a659d0",
   "metadata": {
    "scrolled": false
   },
   "outputs": [],
   "source": [
    "df['balance'].value_counts()"
   ]
  },
  {
   "cell_type": "code",
   "execution_count": null,
   "id": "f60dc58f",
   "metadata": {},
   "outputs": [],
   "source": [
    "df['close'].value_counts()"
   ]
  },
  {
   "cell_type": "code",
   "execution_count": null,
   "id": "b7d811fb",
   "metadata": {},
   "outputs": [],
   "source": [
    "##fixing datatypes"
   ]
  },
  {
   "cell_type": "code",
   "execution_count": null,
   "id": "2389fc96",
   "metadata": {
    "scrolled": true
   },
   "outputs": [],
   "source": [
    "df['tick_timestamp'] =  pd.to_datetime(df['tick_timestamp'])\n",
    "df['balance_1']  = df['balance'].apply(lambda x: int(x))\n",
    "df['rounded_balance'] = df[\"balance\"].astype(float).div(1e18)"
   ]
  },
  {
   "cell_type": "code",
   "execution_count": null,
   "id": "4568e60f",
   "metadata": {
    "scrolled": true
   },
   "outputs": [],
   "source": [
    "df.dtypes"
   ]
  },
  {
   "cell_type": "code",
   "execution_count": null,
   "id": "eeae29ad",
   "metadata": {},
   "outputs": [],
   "source": [
    "df[\"bal_diff\"] = df['balance_1'].diff()"
   ]
  },
  {
   "cell_type": "code",
   "execution_count": null,
   "id": "a3a302ca",
   "metadata": {},
   "outputs": [],
   "source": [
    "# for the given database a solution for \"balance\" problem is slicing digit wise: \n",
    "# 1) splitting into 2 variables (\"_balance\", \"balance_\")\n",
    "# 2) creating a float version of balance_ - \"balance_sl\""
   ]
  },
  {
   "cell_type": "code",
   "execution_count": null,
   "id": "18d77b1c",
   "metadata": {},
   "outputs": [],
   "source": [
    "df['_balance'] = df.balance.apply(lambda x: x[:3])"
   ]
  },
  {
   "cell_type": "code",
   "execution_count": null,
   "id": "28d003fd",
   "metadata": {},
   "outputs": [],
   "source": [
    "df['balance_'] = df.balance.apply(lambda x: x[-18::])"
   ]
  },
  {
   "cell_type": "code",
   "execution_count": null,
   "id": "28130755",
   "metadata": {},
   "outputs": [],
   "source": [
    "df['balance_sl'] = (df['balance_'].astype(float))"
   ]
  },
  {
   "cell_type": "code",
   "execution_count": null,
   "id": "0882730c",
   "metadata": {},
   "outputs": [],
   "source": [
    "#\"activity\" shows if the given log shows any node activity (balance change, chanell open or close)"
   ]
  },
  {
   "cell_type": "code",
   "execution_count": null,
   "id": "4a8ea35f",
   "metadata": {},
   "outputs": [],
   "source": [
    "df = df.replace(r'^\\s*$', np.nan, regex=True)"
   ]
  },
  {
   "cell_type": "code",
   "execution_count": null,
   "id": "c617d6fd",
   "metadata": {},
   "outputs": [],
   "source": [
    "df['bal_diff'] = df['bal_diff'].fillna(0)\n",
    "df['open'] = df['open'].fillna(0)\n",
    "df['close'] = df['close'].fillna(0)"
   ]
  },
  {
   "cell_type": "code",
   "execution_count": null,
   "id": "074ca20f",
   "metadata": {},
   "outputs": [],
   "source": [
    "df['activity'] = (df['bal_diff'] == 0) & (df['open'] == 0) & (df['close'] == 0)"
   ]
  },
  {
   "cell_type": "code",
   "execution_count": null,
   "id": "0071b3e6",
   "metadata": {},
   "outputs": [],
   "source": [
    "act = df[df['activity'] == True].index\n",
    "act"
   ]
  },
  {
   "cell_type": "code",
   "execution_count": null,
   "id": "30cfaef1",
   "metadata": {},
   "outputs": [],
   "source": [
    "df_act = (df.drop(act)).reset_index(drop=True)\n",
    "df_act"
   ]
  },
  {
   "cell_type": "code",
   "execution_count": null,
   "id": "1d175706",
   "metadata": {},
   "outputs": [],
   "source": [
    "#openings and closings aggregation"
   ]
  },
  {
   "cell_type": "code",
   "execution_count": null,
   "id": "cc6affd0",
   "metadata": {
    "scrolled": true
   },
   "outputs": [],
   "source": [
    "df_close = (df.groupby(['close']).agg({'close': ['count'], 'tick_timestamp': ['first'], 'tick_timestamp': ['last'],} )).reset_index(drop=False)"
   ]
  },
  {
   "cell_type": "code",
   "execution_count": null,
   "id": "ff38e398",
   "metadata": {},
   "outputs": [],
   "source": [
    "df_open = (df.groupby(['open']).agg({'open': ['count'], 'tick_timestamp': ['first'], 'tick_timestamp': ['last'],} )).reset_index(drop=False)"
   ]
  },
  {
   "cell_type": "code",
   "execution_count": null,
   "id": "e9375bd7",
   "metadata": {
    "scrolled": true
   },
   "outputs": [],
   "source": [
    "df_close"
   ]
  },
  {
   "cell_type": "code",
   "execution_count": null,
   "id": "af95925c",
   "metadata": {},
   "outputs": [],
   "source": [
    "from matplotlib.ticker import FuncFormatter"
   ]
  },
  {
   "cell_type": "code",
   "execution_count": null,
   "id": "b0f9aefa",
   "metadata": {},
   "outputs": [],
   "source": [
    "a = df['tick_timestamp']\n",
    "b = df['bal_diff']\n",
    "c = df['rounded_balance']\n",
    "d = df['balance_sl']"
   ]
  },
  {
   "cell_type": "code",
   "execution_count": null,
   "id": "35ebdf6b",
   "metadata": {},
   "outputs": [],
   "source": [
    "fig, ax = plt.subplots(figsize=(8, 8))\n",
    "\n",
    "ax.bar(a, b, color=color1, lw=4)\n",
    "ax.set_xlabel(\"Time\")\n",
    "ax.set_ylabel(\"Balance difference\", color=color1)\n",
    "plt.xticks(rotation= 80)\n",
    "\n",
    "#xfmt = DateFormatter('%Y-%m-%d %H:%M:%S')\n",
    "#ax.xaxis.set_major_formatter(xfmt)\n",
    "plt.show()"
   ]
  },
  {
   "cell_type": "code",
   "execution_count": null,
   "id": "178cef64",
   "metadata": {
    "scrolled": false
   },
   "outputs": [],
   "source": [
    "fig, ax = plt.subplots(figsize=(8, 8))\n",
    "\n",
    "ax.bar(a, c, color=color2, lw=4)\n",
    "ax.set_xlabel(\"Time\")\n",
    "ax.set_ylabel(\"Rounded balance\", color=color1)\n",
    "plt.xticks(rotation= 80)\n",
    "\n",
    "#xfmt = DateFormatter('%Y-%m-%d %H:%M:%S')\n",
    "#ax.xaxis.set_major_formatter(xfmt)\n",
    "plt.show()"
   ]
  },
  {
   "cell_type": "code",
   "execution_count": null,
   "id": "7d4f8162",
   "metadata": {},
   "outputs": [],
   "source": []
  }
 ],
 "metadata": {
  "kernelspec": {
   "display_name": "Python 3 (ipykernel)",
   "language": "python",
   "name": "python3"
  },
  "language_info": {
   "codemirror_mode": {
    "name": "ipython",
    "version": 3
   },
   "file_extension": ".py",
   "mimetype": "text/x-python",
   "name": "python",
   "nbconvert_exporter": "python",
   "pygments_lexer": "ipython3",
   "version": "3.7.1"
  }
 },
 "nbformat": 4,
 "nbformat_minor": 5
}
